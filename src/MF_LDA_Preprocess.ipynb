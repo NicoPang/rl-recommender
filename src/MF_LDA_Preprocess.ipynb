{
 "cells": [
  {
   "cell_type": "markdown",
   "metadata": {},
   "source": [
    "# (1) Preprocessing Dataset"
   ]
  },
  {
   "cell_type": "markdown",
   "metadata": {},
   "source": [
    "Make sure dataset file are in correct location.\n",
    "run preprocess.py"
   ]
  },
  {
   "cell_type": "code",
   "execution_count": 1,
   "metadata": {},
   "outputs": [],
   "source": [
    "from data.LDA import preprocess_text\n",
    "from train.saving import save_model_results\n",
    "from model.mf import MF_Bias, LDANet\n",
    "from model.utility import RMSELoss\n",
    "\n",
    "import pickle\n",
    "import matplotlib.pyplot as plt\n",
    "import os\n",
    "import numpy as np\n",
    "import pandas as pd\n",
    "import torch\n",
    "import torch.nn as nn\n",
    "from torch.optim import Adam\n",
    "import gc\n",
    "from sklearn.model_selection import train_test_split\n",
    "from sklearn.feature_extraction.text import TfidfVectorizer\n",
    "from train.saving import save_model_results\n",
    "from skorch import NeuralNetRegressor"
   ]
  },
  {
   "cell_type": "code",
   "execution_count": 3,
   "metadata": {},
   "outputs": [
    {
     "name": "stdout",
     "output_type": "stream",
     "text": [
      "/Users/jb/Documents/GitHub/Intro ML (Nick Pang) Repository/rl-recommender\n"
     ]
    }
   ],
   "source": [
    "subsets = {\n",
    "        \"reviews_Toys_and_Games_5.json\",\n",
    "        \"reviews_Apps_for_Android_5.json\",\n",
    "        \"reviews_Health_and_Personal_Care_5.json\",\n",
    "    }\n",
    "pth = os.getcwd()[:-4]\n",
    "NUM_TOPICS = 10\n",
    "preprocess_text(dataset=subsets, pth=pth, n_topics=NUM_TOPICS)\n",
    "print(pth)"
   ]
  },
  {
   "cell_type": "code",
   "execution_count": 4,
   "metadata": {},
   "outputs": [
    {
     "name": "stdout",
     "output_type": "stream",
     "text": [
      "            reviewerID        asin  overall\n",
      "0       A1VXOAVRGKGEAK  0439893577        5\n",
      "1        A8R62G708TSCM  0439893577        4\n",
      "2       A21KH420DK0ICA  0439893577        5\n",
      "3        AR29QK6HPFYZ4  0439893577        5\n",
      "4        ACCH8EOML6FN5  0439893577        4\n",
      "...                ...         ...      ...\n",
      "346350  A11J1FHCK5U06J  B00LJBMCKK        5\n",
      "346351   AFVKI7BCS3FSX  B00LJBMCKK        5\n",
      "346352  A1Y3FEUELH3FTI  B00LJBMCKK        5\n",
      "346353  A11LC938XF35XN  B00LJBMCKK        5\n",
      "346354  A2I8KUDXTC9WYI  B00LJBMCKK        5\n",
      "\n",
      "[1266889 rows x 3 columns]\n"
     ]
    }
   ],
   "source": [
    "TG5_df = pd.read_json(os.path.join(pth, \"datasets\", \"raw\",\"reviews_Toys_and_Games_5.json\"), lines=True)\n",
    "AA5_df = pd.read_json(os.path.join(pth, \"datasets\", \"raw\", \"reviews_Apps_for_Android_5.json\"), lines=True)\n",
    "HPC_df = pd.read_json(os.path.join(pth, \"datasets\", \"raw\", \"reviews_Health_and_Personal_Care_5.json\"), lines=True)\n",
    "\n",
    "df = pd.concat([TG5_df, AA5_df, HPC_df], axis=0)\n",
    "del TG5_df, AA5_df, HPC_df\n",
    "\n",
    "# Keep essentials only\n",
    "df = df[['reviewerID', 'asin', 'overall']]\n",
    "print(df)"
   ]
  },
  {
   "cell_type": "code",
   "execution_count": 8,
   "metadata": {},
   "outputs": [
    {
     "name": "stdout",
     "output_type": "stream",
     "text": [
      "         reviewerID   asin  overall\n",
      "0                 0      0      3.0\n",
      "1                 0   1681      5.0\n",
      "2                 0   2388      1.0\n",
      "3                 0   3708      2.0\n",
      "4                 0   5357      5.0\n",
      "...             ...    ...      ...\n",
      "1266884      139812  43456      5.0\n",
      "1266885      139812  43484      5.0\n",
      "1266886      139812  43494      5.0\n",
      "1266887      139812  43606      5.0\n",
      "1266888      139812  43615      5.0\n",
      "\n",
      "[1266889 rows x 3 columns]\n"
     ]
    }
   ],
   "source": [
    "# Map values\n",
    "user_dict = pd.read_csv(os.path.join(pth, \"datasets\", \"processed\", \"lda\", \"user_mappings.csv\"))\n",
    "item_dict = pd.read_csv(os.path.join(pth, \"datasets\", \"processed\", \"lda\", \"item_mappings.csv\"))\n",
    "user_dict = dict(zip(user_dict.iloc[:, 1], user_dict.index))\n",
    "item_dict = dict(zip(item_dict.iloc[:, 1], item_dict.index))\n",
    "\n",
    "df['reviewerID'] = df['reviewerID'].map(user_dict).fillna(df['reviewerID'])\n",
    "df['asin'] = df['asin'].map(item_dict).fillna(df['asin'])\n",
    "\n",
    "df[['reviewerID', 'asin']] = df[['reviewerID', 'asin']].astype(int)\n",
    "df['overall'] = df['overall'].astype(float)\n",
    "\n",
    "df = df.sort_values(by=['reviewerID', 'asin'], ignore_index=True)\n",
    "\n",
    "print(df)"
   ]
  },
  {
   "cell_type": "code",
   "execution_count": 10,
   "metadata": {},
   "outputs": [],
   "source": [
    "m = df['overall'].mean()\n",
    "np.savez_compressed(os.path.join(pth, \"datasets\", \"processed\", \"Subset_5core_PreprocessLDA.npz\"),\n",
    "                    x = df[['reviewerID', 'asin']],\n",
    "                    y = df['overall'],\n",
    "                    u_size = len(user_dict),\n",
    "                    i_size = len(item_dict),\n",
    "                    m = m)"
   ]
  },
  {
   "cell_type": "markdown",
   "metadata": {},
   "source": [
    "# (2) Create Model\n",
    "\n",
    "This model doesn't use internal LDA YET!"
   ]
  },
  {
   "cell_type": "markdown",
   "metadata": {},
   "source": [
    "### I wanted to test running on Apple Silicon Chips"
   ]
  },
  {
   "cell_type": "code",
   "execution_count": 12,
   "metadata": {},
   "outputs": [
    {
     "name": "stdout",
     "output_type": "stream",
     "text": [
      "device_type: mps\n",
      "float_type: torch.float32\n",
      "max value: 139812\n",
      "min value: 0\n",
      "int_type: torch.int32\n"
     ]
    }
   ],
   "source": [
    "device = torch.device('mps' if torch.has_mps else 'cpu')\n",
    "f_type = torch.float32 if device.type == 'mps' else torch.float64\n",
    "print(f\"device_type: {device}\")\n",
    "print(f\"float_type: {f_type}\")\n",
    "\n",
    "\n",
    "max_v = max(df['reviewerID'].max(), df['asin'].max())\n",
    "min_v = max(df['reviewerID'].min(), df['asin'].min())\n",
    "print(f\"max value: {max_v}\\nmin value: {min_v}\")\n",
    "\n",
    "if 0 <= min_v <= 255 and 0 <= max_v <= 255:\n",
    "    int_type = torch.uint8\n",
    "elif -128 <= min_v <= 127 and -128 <= max_v <= 127:\n",
    "    int_type = torch.int8\n",
    "elif -32768 <= min_v <= 32767 and -32768 <= max_v <= 32767:\n",
    "    int_type = torch.int16\n",
    "elif -2147483648 <= min_v <= 2147483647 and -2147483648 <= max_v <= 2147483647:\n",
    "    int_type = torch.int32\n",
    "else:\n",
    "    int_type = torch.int64\n",
    "print(f\"int_type: {int_type}\")"
   ]
  },
  {
   "cell_type": "code",
   "execution_count": 13,
   "metadata": {},
   "outputs": [],
   "source": [
    "BATCH_SIZE = 64\n",
    "LEARNING_RATE = 0.0005\n",
    "EPOCHS = 15\n",
    "DECAY = 1e-3\n",
    "DROPOUT = 0.4"
   ]
  },
  {
   "cell_type": "code",
   "execution_count": 14,
   "metadata": {},
   "outputs": [],
   "source": [
    "gc.collect()\n",
    "\n",
    "data = np.load(os.path.join(pth, \"datasets\", \"processed\", \"Subset_5core_PreprocessLDA.npz\"))\n",
    "x = data['x']\n",
    "y = data['y']\n",
    "U_size = data['u_size']\n",
    "I_size = data['i_size']\n",
    "G_b = data['m']\n",
    "\n",
    "x_train, x_test, y_train, y_test = train_test_split(x, y, test_size = 0.2)\n",
    "\n",
    "x_train, x_test = torch.tensor(x_train, dtype = int_type).to(device), torch.tensor(x_test, dtype = int_type).to(device) #Int because Embeddings layer\n",
    "y_train, y_test = torch.tensor(y_train, dtype = f_type).to(device), torch.tensor(y_test, dtype = f_type).to(device)\n",
    "\n",
    "loss_fn = RMSELoss()\n",
    "optimizer = Adam"
   ]
  },
  {
   "cell_type": "markdown",
   "metadata": {},
   "source": [
    "### I am adding the class here only so I append **.to(*device*)** for each tensor"
   ]
  },
  {
   "cell_type": "code",
   "execution_count": 15,
   "metadata": {},
   "outputs": [],
   "source": [
    "## nn.Embedding initialized to random -1 to 1\n",
    "\n",
    "class MF(nn.Module):\n",
    "    def __init__(self, n_users, n_items, K, dropout=0):\n",
    "        super().__init__()\n",
    "        self.user_m = nn.Embedding(\n",
    "            n_users, K, dtype=f_type\n",
    "        ).to(device)  # can include option sparse = True for memory\n",
    "        self.item_m = nn.Embedding(n_items, K, dtype=f_type).to(device)\n",
    "        self.drop_u = nn.Dropout(dropout)\n",
    "        self.drop_i = nn.Dropout(dropout)\n",
    "\n",
    "    def forward(self, x):\n",
    "        user_ids = x[:, 0]\n",
    "        item_ids = x[:, 1]\n",
    "        user_embeds = self.drop_u(self.user_m(user_ids))\n",
    "        item_embeds = self.drop_i(self.item_m(item_ids))\n",
    "        prod = user_embeds * item_embeds\n",
    "\n",
    "        out = torch.sum(prod, 1)\n",
    "\n",
    "        return out\n",
    "\n",
    "\n",
    "# Matrix factorization with user/item biases\n",
    "class MF_Bias(MF):\n",
    "    def __init__(self, n_users, n_items, K, G_b, dropout=0):\n",
    "        super().__init__(n_users, n_items, K, dropout)\n",
    "\n",
    "        self.user_b = nn.Embedding(n_users, 1, dtype=f_type).to(device)\n",
    "        self.item_b = nn.Embedding(n_items, 1, dtype=f_type).to(device)\n",
    "        nn.init.zeros_(self.user_b.weight)\n",
    "        nn.init.zeros_(self.item_b.weight)\n",
    "\n",
    "        self.G_b = torch.from_numpy(G_b)\n",
    "\n",
    "    def forward(self, x):\n",
    "        user_ids = x[:, 0]\n",
    "        item_ids = x[:, 1]\n",
    "        out = super().forward(x)\n",
    "\n",
    "        user_biases = self.user_b(user_ids).squeeze()\n",
    "        item_biases = self.item_b(item_ids).squeeze()\n",
    "\n",
    "        out += user_biases + item_biases + self.G_b\n",
    "\n",
    "        return out"
   ]
  },
  {
   "cell_type": "code",
   "execution_count": 16,
   "metadata": {},
   "outputs": [],
   "source": [
    "model = MF_Bias(U_size, I_size, NUM_TOPICS, G_b, DROPOUT)"
   ]
  },
  {
   "cell_type": "code",
   "execution_count": 17,
   "metadata": {},
   "outputs": [
    {
     "name": "stdout",
     "output_type": "stream",
     "text": [
      "[-1.0, -0.999999999993915, -0.9999999999958652, -0.9999999999896032, -0.9999999999813972, -0.9999999999991869, -0.9999999999928928, -0.9999999999950818, 0.13893064738778915, 1.0]\n"
     ]
    }
   ],
   "source": [
    "# Since nn.Embedding initialized to random -1 to 1.\n",
    "# Creating a mapping from row -> -1 to 1 \n",
    "\n",
    "def row_mapping(l: list):\n",
    "    min_v = float(\"inf\")\n",
    "    max_v = -float(\"inf\")\n",
    "    \n",
    "    for v in l:\n",
    "        if v > max_v:\n",
    "            max_v = v\n",
    "        if v < min_v:\n",
    "            min_v = v\n",
    "    \n",
    "    return [((2 * (x - min_v)) / (max_v - min_v)) - 1 for x in l]\n",
    "\n",
    "# example\n",
    "print(row_mapping([\n",
    "    0.0063068993260669,\n",
    "    0.0063068993278832,\n",
    "    0.0063068993273011,\n",
    "    0.0063068993291702,\n",
    "    0.0063068993316196,\n",
    "    0.0063068993263096,\n",
    "    0.0063068993281883,\n",
    "    0.0063068993275349,\n",
    "    0.3462632596023473,\n",
    "    0.6032815457735784]))"
   ]
  },
  {
   "cell_type": "code",
   "execution_count": 18,
   "metadata": {},
   "outputs": [],
   "source": [
    "user_map = pd.read_csv(os.path.join(pth, \"datasets\", \"processed\", \"lda\", \"user_topics.csv\"))\n",
    "for idx,row  in user_map.iterrows():\n",
    "    row = row[1:] # to remove 'User_ID' from row\n",
    "    row = row.tolist()\n",
    "    row = row_mapping(row)\n",
    "    model.user_m.weight.data[idx] = torch.tensor(row, dtype=f_type).to(device)\n",
    "\n",
    "item_map = pd.read_csv(os.path.join(pth, \"datasets\", \"processed\", \"lda\", \"item_topics.csv\"))\n",
    "for idx,row  in item_map.iterrows():\n",
    "    row = row[1:] # to remove 'Item_ID' from row\n",
    "    row = row.tolist()\n",
    "    row = row_mapping(row)\n",
    "    model.item_m.weight.data[idx] = torch.tensor(row, dtype=f_type).to(device)"
   ]
  },
  {
   "cell_type": "markdown",
   "metadata": {},
   "source": [
    "# (3) Run Model"
   ]
  },
  {
   "cell_type": "code",
   "execution_count": 19,
   "metadata": {},
   "outputs": [
    {
     "data": {
      "text/plain": [
       "0"
      ]
     },
     "execution_count": 19,
     "metadata": {},
     "output_type": "execute_result"
    }
   ],
   "source": [
    "regressor = NeuralNetRegressor(\n",
    "    model,\n",
    "    criterion = loss_fn,\n",
    "    optimizer = optimizer,\n",
    "    optimizer__param_groups = [\n",
    "        ('user_m.weight', {'weight_decay': DECAY}),\n",
    "        ('item_m.weight', {'weight_decay': DECAY})\n",
    "    ],\n",
    "    optimizer__lr = LEARNING_RATE,\n",
    "    batch_size = BATCH_SIZE,\n",
    "    max_epochs = EPOCHS\n",
    ")\n",
    "gc.collect()"
   ]
  },
  {
   "cell_type": "markdown",
   "metadata": {},
   "source": [
    "### Borrowed from *save_model_results()*"
   ]
  },
  {
   "cell_type": "code",
   "execution_count": 20,
   "metadata": {},
   "outputs": [
    {
     "name": "stdout",
     "output_type": "stream",
     "text": [
      "  epoch    train_loss    valid_loss       dur\n",
      "-------  ------------  ------------  --------\n",
      "      1        \u001b[36m1.8224\u001b[0m        \u001b[32m1.1981\u001b[0m  137.6718\n",
      "      2        \u001b[36m1.1716\u001b[0m        \u001b[32m1.1673\u001b[0m  132.9508\n",
      "      3        \u001b[36m1.1349\u001b[0m        \u001b[32m1.1503\u001b[0m  131.2719\n",
      "      4        \u001b[36m1.1086\u001b[0m        \u001b[32m1.1393\u001b[0m  132.7877\n",
      "      5        \u001b[36m1.0883\u001b[0m        \u001b[32m1.1320\u001b[0m  131.4501\n",
      "      6        \u001b[36m1.0720\u001b[0m        \u001b[32m1.1269\u001b[0m  129.0991\n",
      "      7        \u001b[36m1.0585\u001b[0m        \u001b[32m1.1233\u001b[0m  126.3721\n",
      "      8        \u001b[36m1.0472\u001b[0m        \u001b[32m1.1208\u001b[0m  124.3735\n",
      "      9        \u001b[36m1.0375\u001b[0m        \u001b[32m1.1191\u001b[0m  121.0159\n",
      "     10        \u001b[36m1.0290\u001b[0m        \u001b[32m1.1179\u001b[0m  121.9840\n",
      "     11        \u001b[36m1.0217\u001b[0m        \u001b[32m1.1172\u001b[0m  122.5360\n",
      "     12        \u001b[36m1.0152\u001b[0m        \u001b[32m1.1168\u001b[0m  122.0688\n",
      "     13        \u001b[36m1.0095\u001b[0m        \u001b[32m1.1167\u001b[0m  118.3865\n",
      "     14        \u001b[36m1.0044\u001b[0m        1.1168  116.2822\n",
      "     15        \u001b[36m0.9998\u001b[0m        1.1171  115.5660\n"
     ]
    }
   ],
   "source": [
    "results = regressor.fit(x_train, y_train)\n",
    "history = results.history\n",
    "\n",
    "tr_losses = [i['train_loss'] for i in history]\n",
    "t_losses = [i['valid_loss'] for i in history]\n",
    "\n",
    "with open(os.path.join(pth, \"results\", f\"User-Item-Model_{device}_{f_type}.pkl\"), 'wb') as f:\n",
    "    pickle.dump(model, f)\n",
    "\n",
    "np.savez_compressed(os.path.join(pth, \"results\", f\"User-Item-Model_{device}_{f_type}.npz\"),\n",
    "                    tr_loss = tr_losses,\n",
    "                    t_loss = t_losses)"
   ]
  },
  {
   "cell_type": "markdown",
   "metadata": {},
   "source": [
    "### Another Model without setting the weights"
   ]
  },
  {
   "cell_type": "code",
   "execution_count": 21,
   "metadata": {},
   "outputs": [],
   "source": [
    "model = MF_Bias(U_size, I_size, NUM_TOPICS, G_b, DROPOUT)"
   ]
  },
  {
   "cell_type": "code",
   "execution_count": 22,
   "metadata": {},
   "outputs": [
    {
     "data": {
      "text/plain": [
       "0"
      ]
     },
     "execution_count": 22,
     "metadata": {},
     "output_type": "execute_result"
    }
   ],
   "source": [
    "regressor = NeuralNetRegressor(\n",
    "    model,\n",
    "    criterion = loss_fn,\n",
    "    optimizer = optimizer,\n",
    "    optimizer__param_groups = [\n",
    "        ('user_m.weight', {'weight_decay': DECAY}),\n",
    "        ('item_m.weight', {'weight_decay': DECAY})\n",
    "    ],\n",
    "    optimizer__lr = LEARNING_RATE,\n",
    "    batch_size = BATCH_SIZE,\n",
    "    max_epochs = EPOCHS\n",
    ")\n",
    "gc.collect()"
   ]
  },
  {
   "cell_type": "code",
   "execution_count": 23,
   "metadata": {},
   "outputs": [
    {
     "name": "stdout",
     "output_type": "stream",
     "text": [
      "  epoch    train_loss    valid_loss       dur\n",
      "-------  ------------  ------------  --------\n",
      "      1        \u001b[36m1.5869\u001b[0m        \u001b[32m1.1960\u001b[0m  115.9439\n",
      "      2        \u001b[36m1.1712\u001b[0m        \u001b[32m1.1681\u001b[0m  116.8196\n",
      "      3        \u001b[36m1.1356\u001b[0m        \u001b[32m1.1512\u001b[0m  116.0299\n",
      "      4        \u001b[36m1.1094\u001b[0m        \u001b[32m1.1402\u001b[0m  115.6879\n",
      "      5        \u001b[36m1.0891\u001b[0m        \u001b[32m1.1327\u001b[0m  115.9855\n",
      "      6        \u001b[36m1.0727\u001b[0m        \u001b[32m1.1275\u001b[0m  115.6345\n",
      "      7        \u001b[36m1.0591\u001b[0m        \u001b[32m1.1239\u001b[0m  116.6626\n",
      "      8        \u001b[36m1.0477\u001b[0m        \u001b[32m1.1213\u001b[0m  116.1821\n",
      "      9        \u001b[36m1.0379\u001b[0m        \u001b[32m1.1195\u001b[0m  117.5256\n",
      "     10        \u001b[36m1.0295\u001b[0m        \u001b[32m1.1183\u001b[0m  116.0274\n",
      "     11        \u001b[36m1.0221\u001b[0m        \u001b[32m1.1175\u001b[0m  116.2244\n",
      "     12        \u001b[36m1.0156\u001b[0m        \u001b[32m1.1171\u001b[0m  114.3120\n",
      "     13        \u001b[36m1.0098\u001b[0m        \u001b[32m1.1170\u001b[0m  113.5011\n",
      "     14        \u001b[36m1.0047\u001b[0m        1.1170  113.2438\n",
      "     15        \u001b[36m1.0000\u001b[0m        1.1173  113.3689\n"
     ]
    }
   ],
   "source": [
    "results = regressor.fit(x_train, y_train)\n",
    "history = results.history\n",
    "\n",
    "tr_losses = [i['train_loss'] for i in history]\n",
    "t_losses = [i['valid_loss'] for i in history]\n",
    "\n",
    "with open(os.path.join(pth, \"results\", f\"No-Adjustments-Model_{device}_{f_type}.pkl\"), 'wb') as f:\n",
    "    pickle.dump(model, f)\n",
    "\n",
    "np.savez_compressed(os.path.join(pth, \"results\", f\"No-Adjustments-Model_{device}_{f_type}.npz\"),\n",
    "                    tr_loss = tr_losses,\n",
    "                    t_loss = t_losses)"
   ]
  },
  {
   "cell_type": "markdown",
   "metadata": {},
   "source": [
    "### Only Preprocessed Users & Only Items"
   ]
  },
  {
   "cell_type": "code",
   "execution_count": 24,
   "metadata": {},
   "outputs": [],
   "source": [
    "model_users = MF_Bias(U_size, I_size, NUM_TOPICS, G_b, DROPOUT)\n",
    "model_items = MF_Bias(U_size, I_size, NUM_TOPICS, G_b, DROPOUT)"
   ]
  },
  {
   "cell_type": "code",
   "execution_count": 25,
   "metadata": {},
   "outputs": [],
   "source": [
    "user_map = pd.read_csv(os.path.join(pth, \"datasets\", \"processed\", \"lda\", \"user_topics.csv\"))\n",
    "for idx,row  in user_map.iterrows():\n",
    "    row = row[1:] # to remove 'User_ID' from row\n",
    "    row = row.tolist()\n",
    "    row = row_mapping(row)\n",
    "    model_users.user_m.weight.data[idx] = torch.tensor(row, dtype=f_type).to(device)\n",
    "\n",
    "item_map = pd.read_csv(os.path.join(pth, \"datasets\", \"processed\", \"lda\", \"item_topics.csv\"))\n",
    "for idx,row  in item_map.iterrows():\n",
    "    row = row[1:] # to remove 'Item_ID' from row\n",
    "    row = row.tolist()\n",
    "    row = row_mapping(row)\n",
    "    model_items.item_m.weight.data[idx] = torch.tensor(row, dtype=f_type).to(device)"
   ]
  },
  {
   "cell_type": "code",
   "execution_count": 28,
   "metadata": {},
   "outputs": [],
   "source": [
    "regressor_users = NeuralNetRegressor(\n",
    "    model_users,\n",
    "    criterion = loss_fn,\n",
    "    optimizer = optimizer,\n",
    "    optimizer__param_groups = [\n",
    "        ('user_m.weight', {'weight_decay': DECAY}),\n",
    "        ('item_m.weight', {'weight_decay': DECAY})\n",
    "    ],\n",
    "    optimizer__lr = LEARNING_RATE,\n",
    "    batch_size = BATCH_SIZE,\n",
    "    max_epochs = EPOCHS\n",
    ")\n",
    "regressor_items = NeuralNetRegressor(\n",
    "    model_items,\n",
    "    criterion = loss_fn,\n",
    "    optimizer = optimizer,\n",
    "    optimizer__param_groups = [\n",
    "        ('user_m.weight', {'weight_decay': DECAY}),\n",
    "        ('item_m.weight', {'weight_decay': DECAY})\n",
    "    ],\n",
    "    optimizer__lr = LEARNING_RATE,\n",
    "    batch_size = BATCH_SIZE,\n",
    "    max_epochs = EPOCHS\n",
    ")"
   ]
  },
  {
   "cell_type": "code",
   "execution_count": 29,
   "metadata": {},
   "outputs": [
    {
     "data": {
      "text/plain": [
       "'\\nresults = regressor_users.fit(x_train, y_train)\\nhistory = results.history\\n\\ntr_losses = [i[\\'train_loss\\'] for i in history]\\nt_losses = [i[\\'valid_loss\\'] for i in history]\\n\\nwith open(os.path.join(pth, \"results\", f\"Users-Only-Model_{device}_{f_type}.pkl\"), \\'wb\\') as f:\\n    pickle.dump(model, f)\\n\\nnp.savez_compressed(os.path.join(pth, \"results\", f\"Users-Only-Model_{device}_{f_type}.npz\"),\\n                    tr_loss = tr_losses,\\n                    t_loss = t_losses)\\n'"
      ]
     },
     "execution_count": 29,
     "metadata": {},
     "output_type": "execute_result"
    }
   ],
   "source": [
    "\"\"\"\n",
    "results = regressor_users.fit(x_train, y_train)\n",
    "history = results.history\n",
    "\n",
    "tr_losses = [i['train_loss'] for i in history]\n",
    "t_losses = [i['valid_loss'] for i in history]\n",
    "\n",
    "with open(os.path.join(pth, \"results\", f\"Users-Only-Model_{device}_{f_type}.pkl\"), 'wb') as f:\n",
    "    pickle.dump(model, f)\n",
    "\n",
    "np.savez_compressed(os.path.join(pth, \"results\", f\"Users-Only-Model_{device}_{f_type}.npz\"),\n",
    "                    tr_loss = tr_losses,\n",
    "                    t_loss = t_losses)\n",
    "\"\"\""
   ]
  },
  {
   "cell_type": "code",
   "execution_count": 30,
   "metadata": {},
   "outputs": [
    {
     "data": {
      "text/plain": [
       "'\\nresults = regressor_items.fit(x_train, y_train)\\nhistory = results.history\\n\\ntr_losses = [i[\\'train_loss\\'] for i in history]\\nt_losses = [i[\\'valid_loss\\'] for i in history]\\n\\nwith open(os.path.join(pth, \"results\", f\"Items-Only-Model_{device}_{f_type}.pkl\"), \\'wb\\') as f:\\n    pickle.dump(model, f)\\n\\nnp.savez_compressed(os.path.join(pth, \"results\", f\"Items-Only-Model_{device}_{f_type}.npz\"),\\n                    tr_loss = tr_losses,\\n                    t_loss = t_losses)\\n'"
      ]
     },
     "execution_count": 30,
     "metadata": {},
     "output_type": "execute_result"
    }
   ],
   "source": [
    "\"\"\"\n",
    "results = regressor_items.fit(x_train, y_train)\n",
    "history = results.history\n",
    "\n",
    "tr_losses = [i['train_loss'] for i in history]\n",
    "t_losses = [i['valid_loss'] for i in history]\n",
    "\n",
    "with open(os.path.join(pth, \"results\", f\"Items-Only-Model_{device}_{f_type}.pkl\"), 'wb') as f:\n",
    "    pickle.dump(model, f)\n",
    "\n",
    "np.savez_compressed(os.path.join(pth, \"results\", f\"Items-Only-Model_{device}_{f_type}.npz\"),\n",
    "                    tr_loss = tr_losses,\n",
    "                    t_loss = t_losses)\n",
    "\"\"\""
   ]
  },
  {
   "cell_type": "markdown",
   "metadata": {},
   "source": [
    "# (4) Graphs"
   ]
  },
  {
   "cell_type": "code",
   "execution_count": 31,
   "metadata": {},
   "outputs": [
    {
     "data": {
      "text/plain": [
       "36"
      ]
     },
     "execution_count": 31,
     "metadata": {},
     "output_type": "execute_result"
    }
   ],
   "source": [
    "gc.collect()"
   ]
  },
  {
   "cell_type": "code",
   "execution_count": 32,
   "metadata": {},
   "outputs": [
    {
     "data": {
      "image/png": "[encoded data removed]",
      "text/plain": [
       "<Figure size 640x480 with 1 Axes>"
      ]
     },
     "metadata": {},
     "output_type": "display_data"
    }
   ],
   "source": [
    "import matplotlib.pyplot as plt\n",
    "p = np.load(os.path.join(pth, \"results\", f\"User-Item-Model_{device}_{f_type}.npz\"))\n",
    "not_p = np.load(os.path.join(pth, \"results\", f\"No-Adjustments-Model_{device}_{f_type}.npz\"))\n",
    "\"\"\"\n",
    "u = np.load(os.path.join(pth, \"results\", f\"Users-Only-Model_{device}_{f_type}.npz\"))\n",
    "i = np.load(os.path.join(pth, \"results\", f\"Items-Only-Model_{device}_{f_type}.npz\"))\n",
    "\"\"\"\n",
    "\n",
    "plt.plot([i+1 for i in range(EPOCHS)], p['t_loss'], label='LDA Preprocessed')\n",
    "plt.plot([i+1 for i in range(EPOCHS)], not_p['t_loss'], label='Baseline')\n",
    "\"\"\"\n",
    "plt.plot([i+1 for i in range(EPOCHS)], u['t_loss'], label='Only Users')\n",
    "plt.plot([i+1 for i in range(EPOCHS)], i['t_loss'], label='Only Items')\n",
    "\"\"\"\n",
    "plt.xlabel('Epochs')\n",
    "plt.ylabel('Loss RMSE')\n",
    "plt.title('LDA Preprocessing Performance')\n",
    "plt.legend()\n",
    "plt.show()"
   ]
  },
  {
   "cell_type": "code",
   "execution_count": 33,
   "metadata": {},
   "outputs": [
    {
     "data": {
      "image/png": "[encoded data removed]",
      "text/plain": [
       "<Figure size 640x480 with 1 Axes>"
      ]
     },
     "metadata": {},
     "output_type": "display_data"
    }
   ],
   "source": [
    "factor = list()\n",
    "for i in range(len(p['t_loss'])):\n",
    "    f = (100 *(float(not_p['t_loss'][i]) / float(p['t_loss'][i]))) - 100\n",
    "    factor.append(f)\n",
    "\n",
    "plt.plot([i+1 for i in range(EPOCHS)], factor, label='% Improvement')\n",
    "plt.xlabel('Epochs')\n",
    "plt.ylabel('% LDA Preprocessed over Baseline')\n",
    "plt.title('Comparison')\n",
    "plt.legend()\n",
    "plt.show()"
   ]
  }
 ],
 "metadata": {
  "kernelspec": {
   "display_name": "RL-Recommender-Git",
   "language": "python",
   "name": "python3"
  },
  "language_info": {
   "codemirror_mode": {
    "name": "ipython",
    "version": 3
   },
   "file_extension": ".py",
   "mimetype": "text/x-python",
   "name": "python",
   "nbconvert_exporter": "python",
   "pygments_lexer": "ipython3",
   "version": "3.10.13"
  }
 },
 "nbformat": 4,
 "nbformat_minor": 2
}
