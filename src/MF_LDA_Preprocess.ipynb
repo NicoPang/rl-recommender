{
 "cells": [
  {
   "cell_type": "markdown",
   "metadata": {},
   "source": [
    "# (1) Preprocessing Dataset"
   ]
  },
  {
   "cell_type": "markdown",
   "metadata": {},
   "source": [
    "Make sure dataset file are in correct location.\n",
    "run preprocess.py"
   ]
  },
  {
   "cell_type": "code",
   "execution_count": 1,
   "metadata": {},
   "outputs": [],
   "source": [
    "from data.LDA import preprocess_text\n",
    "from train.saving import save_model_results\n",
    "from model.mf import MF_Bias, LDANet\n",
    "from model.utility import RMSELoss\n",
    "\n",
    "import pickle\n",
    "import matplotlib.pyplot as plt\n",
    "import os\n",
    "import numpy as np\n",
    "import pandas as pd\n",
    "import torch\n",
    "import torch.nn as nn\n",
    "from torch.optim import Adam\n",
    "import gc\n",
    "from sklearn.model_selection import train_test_split\n",
    "from sklearn.feature_extraction.text import TfidfVectorizer\n",
    "from train.saving import save_model_results\n",
    "from skorch import NeuralNetRegressor"
   ]
  },
  {
   "cell_type": "code",
   "execution_count": 3,
   "metadata": {},
   "outputs": [
    {
     "name": "stdout",
     "output_type": "stream",
     "text": [
      "/Users/jb/Documents/GitHub/Intro ML (Nick Pang) Repository/rl-recommender\n"
     ]
    }
   ],
   "source": [
    "subsets = {\n",
    "        \"reviews_Toys_and_Games_5.json\",\n",
    "        \"reviews_Apps_for_Android_5.json\",\n",
    "        \"reviews_Health_and_Personal_Care_5.json\",\n",
    "    }\n",
    "pth = os.getcwd()[:-4]\n",
    "NUM_TOPICS = 10\n",
    "preprocess_text(dataset=subsets, pth=pth, n_topics=NUM_TOPICS)\n",
    "print(pth)"
   ]
  },
  {
   "cell_type": "code",
   "execution_count": 4,
   "metadata": {},
   "outputs": [
    {
     "name": "stdout",
     "output_type": "stream",
     "text": [
      "            reviewerID        asin  overall\n",
      "0       A1VXOAVRGKGEAK  0439893577        5\n",
      "1        A8R62G708TSCM  0439893577        4\n",
      "2       A21KH420DK0ICA  0439893577        5\n",
      "3        AR29QK6HPFYZ4  0439893577        5\n",
      "4        ACCH8EOML6FN5  0439893577        4\n",
      "...                ...         ...      ...\n",
      "346350  A11J1FHCK5U06J  B00LJBMCKK        5\n",
      "346351   AFVKI7BCS3FSX  B00LJBMCKK        5\n",
      "346352  A1Y3FEUELH3FTI  B00LJBMCKK        5\n",
      "346353  A11LC938XF35XN  B00LJBMCKK        5\n",
      "346354  A2I8KUDXTC9WYI  B00LJBMCKK        5\n",
      "\n",
      "[1266889 rows x 3 columns]\n"
     ]
    }
   ],
   "source": [
    "TG5_df = pd.read_json(os.path.join(pth, \"datasets\", \"raw\",\"reviews_Toys_and_Games_5.json\"), lines=True)\n",
    "AA5_df = pd.read_json(os.path.join(pth, \"datasets\", \"raw\", \"reviews_Apps_for_Android_5.json\"), lines=True)\n",
    "HPC_df = pd.read_json(os.path.join(pth, \"datasets\", \"raw\", \"reviews_Health_and_Personal_Care_5.json\"), lines=True)\n",
    "\n",
    "df = pd.concat([TG5_df, AA5_df, HPC_df], axis=0)\n",
    "del TG5_df, AA5_df, HPC_df\n",
    "\n",
    "# Keep essentials only\n",
    "df = df[['reviewerID', 'asin', 'overall']]\n",
    "print(df)"
   ]
  },
  {
   "cell_type": "code",
   "execution_count": 7,
   "metadata": {},
   "outputs": [
    {
     "ename": "FileNotFoundError",
     "evalue": "[Errno 2] No such file or directory: '/Users/jb/Documents/GitHub/Intro ML (Nick Pang) Repository/rl-recommender/datasets/processed/lda/user_mappings.csv'",
     "output_type": "error",
     "traceback": [
      "\u001b[0;31m---------------------------------------------------------------------------\u001b[0m",
      "\u001b[0;31mFileNotFoundError\u001b[0m                         Traceback (most recent call last)",
      "Cell \u001b[0;32mIn[7], line 2\u001b[0m\n\u001b[1;32m      1\u001b[0m \u001b[38;5;66;03m# Map values\u001b[39;00m\n\u001b[0;32m----> 2\u001b[0m user_dict \u001b[38;5;241m=\u001b[39m \u001b[43mpd\u001b[49m\u001b[38;5;241;43m.\u001b[39;49m\u001b[43mread_csv\u001b[49m\u001b[43m(\u001b[49m\u001b[43mos\u001b[49m\u001b[38;5;241;43m.\u001b[39;49m\u001b[43mpath\u001b[49m\u001b[38;5;241;43m.\u001b[39;49m\u001b[43mjoin\u001b[49m\u001b[43m(\u001b[49m\u001b[43mpth\u001b[49m\u001b[43m,\u001b[49m\u001b[43m \u001b[49m\u001b[38;5;124;43m\"\u001b[39;49m\u001b[38;5;124;43mdatasets\u001b[39;49m\u001b[38;5;124;43m\"\u001b[39;49m\u001b[43m,\u001b[49m\u001b[43m \u001b[49m\u001b[38;5;124;43m\"\u001b[39;49m\u001b[38;5;124;43mprocessed\u001b[39;49m\u001b[38;5;124;43m\"\u001b[39;49m\u001b[43m,\u001b[49m\u001b[43m \u001b[49m\u001b[38;5;124;43m\"\u001b[39;49m\u001b[38;5;124;43mlda\u001b[39;49m\u001b[38;5;124;43m\"\u001b[39;49m\u001b[43m,\u001b[49m\u001b[43m \u001b[49m\u001b[38;5;124;43m\"\u001b[39;49m\u001b[38;5;124;43muser_mappings.csv\u001b[39;49m\u001b[38;5;124;43m\"\u001b[39;49m\u001b[43m)\u001b[49m\u001b[43m)\u001b[49m\n\u001b[1;32m      3\u001b[0m item_dict \u001b[38;5;241m=\u001b[39m pd\u001b[38;5;241m.\u001b[39mread_csv(os\u001b[38;5;241m.\u001b[39mpath\u001b[38;5;241m.\u001b[39mjoin(pth, \u001b[38;5;124m\"\u001b[39m\u001b[38;5;124mdatasets\u001b[39m\u001b[38;5;124m\"\u001b[39m, \u001b[38;5;124m\"\u001b[39m\u001b[38;5;124mprocessed\u001b[39m\u001b[38;5;124m\"\u001b[39m, \u001b[38;5;124m\"\u001b[39m\u001b[38;5;124mlda\u001b[39m\u001b[38;5;124m\"\u001b[39m, \u001b[38;5;124m\"\u001b[39m\u001b[38;5;124mitem_mappings.csv\u001b[39m\u001b[38;5;124m\"\u001b[39m))\n\u001b[1;32m      4\u001b[0m user_dict \u001b[38;5;241m=\u001b[39m \u001b[38;5;28mdict\u001b[39m(\u001b[38;5;28mzip\u001b[39m(user_dict\u001b[38;5;241m.\u001b[39miloc[:, \u001b[38;5;241m1\u001b[39m], user_dict\u001b[38;5;241m.\u001b[39mindex))\n",
      "File \u001b[0;32m~/anaconda3/envs/RL-Recommender-Git/lib/python3.10/site-packages/pandas/io/parsers/readers.py:912\u001b[0m, in \u001b[0;36mread_csv\u001b[0;34m(filepath_or_buffer, sep, delimiter, header, names, index_col, usecols, dtype, engine, converters, true_values, false_values, skipinitialspace, skiprows, skipfooter, nrows, na_values, keep_default_na, na_filter, verbose, skip_blank_lines, parse_dates, infer_datetime_format, keep_date_col, date_parser, date_format, dayfirst, cache_dates, iterator, chunksize, compression, thousands, decimal, lineterminator, quotechar, quoting, doublequote, escapechar, comment, encoding, encoding_errors, dialect, on_bad_lines, delim_whitespace, low_memory, memory_map, float_precision, storage_options, dtype_backend)\u001b[0m\n\u001b[1;32m    899\u001b[0m kwds_defaults \u001b[38;5;241m=\u001b[39m _refine_defaults_read(\n\u001b[1;32m    900\u001b[0m     dialect,\n\u001b[1;32m    901\u001b[0m     delimiter,\n\u001b[0;32m   (...)\u001b[0m\n\u001b[1;32m    908\u001b[0m     dtype_backend\u001b[38;5;241m=\u001b[39mdtype_backend,\n\u001b[1;32m    909\u001b[0m )\n\u001b[1;32m    910\u001b[0m kwds\u001b[38;5;241m.\u001b[39mupdate(kwds_defaults)\n\u001b[0;32m--> 912\u001b[0m \u001b[38;5;28;01mreturn\u001b[39;00m \u001b[43m_read\u001b[49m\u001b[43m(\u001b[49m\u001b[43mfilepath_or_buffer\u001b[49m\u001b[43m,\u001b[49m\u001b[43m \u001b[49m\u001b[43mkwds\u001b[49m\u001b[43m)\u001b[49m\n",
      "File \u001b[0;32m~/anaconda3/envs/RL-Recommender-Git/lib/python3.10/site-packages/pandas/io/parsers/readers.py:577\u001b[0m, in \u001b[0;36m_read\u001b[0;34m(filepath_or_buffer, kwds)\u001b[0m\n\u001b[1;32m    574\u001b[0m _validate_names(kwds\u001b[38;5;241m.\u001b[39mget(\u001b[38;5;124m\"\u001b[39m\u001b[38;5;124mnames\u001b[39m\u001b[38;5;124m\"\u001b[39m, \u001b[38;5;28;01mNone\u001b[39;00m))\n\u001b[1;32m    576\u001b[0m \u001b[38;5;66;03m# Create the parser.\u001b[39;00m\n\u001b[0;32m--> 577\u001b[0m parser \u001b[38;5;241m=\u001b[39m \u001b[43mTextFileReader\u001b[49m\u001b[43m(\u001b[49m\u001b[43mfilepath_or_buffer\u001b[49m\u001b[43m,\u001b[49m\u001b[43m \u001b[49m\u001b[38;5;241;43m*\u001b[39;49m\u001b[38;5;241;43m*\u001b[39;49m\u001b[43mkwds\u001b[49m\u001b[43m)\u001b[49m\n\u001b[1;32m    579\u001b[0m \u001b[38;5;28;01mif\u001b[39;00m chunksize \u001b[38;5;129;01mor\u001b[39;00m iterator:\n\u001b[1;32m    580\u001b[0m     \u001b[38;5;28;01mreturn\u001b[39;00m parser\n",
      "File \u001b[0;32m~/anaconda3/envs/RL-Recommender-Git/lib/python3.10/site-packages/pandas/io/parsers/readers.py:1407\u001b[0m, in \u001b[0;36mTextFileReader.__init__\u001b[0;34m(self, f, engine, **kwds)\u001b[0m\n\u001b[1;32m   1404\u001b[0m     \u001b[38;5;28mself\u001b[39m\u001b[38;5;241m.\u001b[39moptions[\u001b[38;5;124m\"\u001b[39m\u001b[38;5;124mhas_index_names\u001b[39m\u001b[38;5;124m\"\u001b[39m] \u001b[38;5;241m=\u001b[39m kwds[\u001b[38;5;124m\"\u001b[39m\u001b[38;5;124mhas_index_names\u001b[39m\u001b[38;5;124m\"\u001b[39m]\n\u001b[1;32m   1406\u001b[0m \u001b[38;5;28mself\u001b[39m\u001b[38;5;241m.\u001b[39mhandles: IOHandles \u001b[38;5;241m|\u001b[39m \u001b[38;5;28;01mNone\u001b[39;00m \u001b[38;5;241m=\u001b[39m \u001b[38;5;28;01mNone\u001b[39;00m\n\u001b[0;32m-> 1407\u001b[0m \u001b[38;5;28mself\u001b[39m\u001b[38;5;241m.\u001b[39m_engine \u001b[38;5;241m=\u001b[39m \u001b[38;5;28;43mself\u001b[39;49m\u001b[38;5;241;43m.\u001b[39;49m\u001b[43m_make_engine\u001b[49m\u001b[43m(\u001b[49m\u001b[43mf\u001b[49m\u001b[43m,\u001b[49m\u001b[43m \u001b[49m\u001b[38;5;28;43mself\u001b[39;49m\u001b[38;5;241;43m.\u001b[39;49m\u001b[43mengine\u001b[49m\u001b[43m)\u001b[49m\n",
      "File \u001b[0;32m~/anaconda3/envs/RL-Recommender-Git/lib/python3.10/site-packages/pandas/io/parsers/readers.py:1661\u001b[0m, in \u001b[0;36mTextFileReader._make_engine\u001b[0;34m(self, f, engine)\u001b[0m\n\u001b[1;32m   1659\u001b[0m     \u001b[38;5;28;01mif\u001b[39;00m \u001b[38;5;124m\"\u001b[39m\u001b[38;5;124mb\u001b[39m\u001b[38;5;124m\"\u001b[39m \u001b[38;5;129;01mnot\u001b[39;00m \u001b[38;5;129;01min\u001b[39;00m mode:\n\u001b[1;32m   1660\u001b[0m         mode \u001b[38;5;241m+\u001b[39m\u001b[38;5;241m=\u001b[39m \u001b[38;5;124m\"\u001b[39m\u001b[38;5;124mb\u001b[39m\u001b[38;5;124m\"\u001b[39m\n\u001b[0;32m-> 1661\u001b[0m \u001b[38;5;28mself\u001b[39m\u001b[38;5;241m.\u001b[39mhandles \u001b[38;5;241m=\u001b[39m \u001b[43mget_handle\u001b[49m\u001b[43m(\u001b[49m\n\u001b[1;32m   1662\u001b[0m \u001b[43m    \u001b[49m\u001b[43mf\u001b[49m\u001b[43m,\u001b[49m\n\u001b[1;32m   1663\u001b[0m \u001b[43m    \u001b[49m\u001b[43mmode\u001b[49m\u001b[43m,\u001b[49m\n\u001b[1;32m   1664\u001b[0m \u001b[43m    \u001b[49m\u001b[43mencoding\u001b[49m\u001b[38;5;241;43m=\u001b[39;49m\u001b[38;5;28;43mself\u001b[39;49m\u001b[38;5;241;43m.\u001b[39;49m\u001b[43moptions\u001b[49m\u001b[38;5;241;43m.\u001b[39;49m\u001b[43mget\u001b[49m\u001b[43m(\u001b[49m\u001b[38;5;124;43m\"\u001b[39;49m\u001b[38;5;124;43mencoding\u001b[39;49m\u001b[38;5;124;43m\"\u001b[39;49m\u001b[43m,\u001b[49m\u001b[43m \u001b[49m\u001b[38;5;28;43;01mNone\u001b[39;49;00m\u001b[43m)\u001b[49m\u001b[43m,\u001b[49m\n\u001b[1;32m   1665\u001b[0m \u001b[43m    \u001b[49m\u001b[43mcompression\u001b[49m\u001b[38;5;241;43m=\u001b[39;49m\u001b[38;5;28;43mself\u001b[39;49m\u001b[38;5;241;43m.\u001b[39;49m\u001b[43moptions\u001b[49m\u001b[38;5;241;43m.\u001b[39;49m\u001b[43mget\u001b[49m\u001b[43m(\u001b[49m\u001b[38;5;124;43m\"\u001b[39;49m\u001b[38;5;124;43mcompression\u001b[39;49m\u001b[38;5;124;43m\"\u001b[39;49m\u001b[43m,\u001b[49m\u001b[43m \u001b[49m\u001b[38;5;28;43;01mNone\u001b[39;49;00m\u001b[43m)\u001b[49m\u001b[43m,\u001b[49m\n\u001b[1;32m   1666\u001b[0m \u001b[43m    \u001b[49m\u001b[43mmemory_map\u001b[49m\u001b[38;5;241;43m=\u001b[39;49m\u001b[38;5;28;43mself\u001b[39;49m\u001b[38;5;241;43m.\u001b[39;49m\u001b[43moptions\u001b[49m\u001b[38;5;241;43m.\u001b[39;49m\u001b[43mget\u001b[49m\u001b[43m(\u001b[49m\u001b[38;5;124;43m\"\u001b[39;49m\u001b[38;5;124;43mmemory_map\u001b[39;49m\u001b[38;5;124;43m\"\u001b[39;49m\u001b[43m,\u001b[49m\u001b[43m \u001b[49m\u001b[38;5;28;43;01mFalse\u001b[39;49;00m\u001b[43m)\u001b[49m\u001b[43m,\u001b[49m\n\u001b[1;32m   1667\u001b[0m \u001b[43m    \u001b[49m\u001b[43mis_text\u001b[49m\u001b[38;5;241;43m=\u001b[39;49m\u001b[43mis_text\u001b[49m\u001b[43m,\u001b[49m\n\u001b[1;32m   1668\u001b[0m \u001b[43m    \u001b[49m\u001b[43merrors\u001b[49m\u001b[38;5;241;43m=\u001b[39;49m\u001b[38;5;28;43mself\u001b[39;49m\u001b[38;5;241;43m.\u001b[39;49m\u001b[43moptions\u001b[49m\u001b[38;5;241;43m.\u001b[39;49m\u001b[43mget\u001b[49m\u001b[43m(\u001b[49m\u001b[38;5;124;43m\"\u001b[39;49m\u001b[38;5;124;43mencoding_errors\u001b[39;49m\u001b[38;5;124;43m\"\u001b[39;49m\u001b[43m,\u001b[49m\u001b[43m \u001b[49m\u001b[38;5;124;43m\"\u001b[39;49m\u001b[38;5;124;43mstrict\u001b[39;49m\u001b[38;5;124;43m\"\u001b[39;49m\u001b[43m)\u001b[49m\u001b[43m,\u001b[49m\n\u001b[1;32m   1669\u001b[0m \u001b[43m    \u001b[49m\u001b[43mstorage_options\u001b[49m\u001b[38;5;241;43m=\u001b[39;49m\u001b[38;5;28;43mself\u001b[39;49m\u001b[38;5;241;43m.\u001b[39;49m\u001b[43moptions\u001b[49m\u001b[38;5;241;43m.\u001b[39;49m\u001b[43mget\u001b[49m\u001b[43m(\u001b[49m\u001b[38;5;124;43m\"\u001b[39;49m\u001b[38;5;124;43mstorage_options\u001b[39;49m\u001b[38;5;124;43m\"\u001b[39;49m\u001b[43m,\u001b[49m\u001b[43m \u001b[49m\u001b[38;5;28;43;01mNone\u001b[39;49;00m\u001b[43m)\u001b[49m\u001b[43m,\u001b[49m\n\u001b[1;32m   1670\u001b[0m \u001b[43m\u001b[49m\u001b[43m)\u001b[49m\n\u001b[1;32m   1671\u001b[0m \u001b[38;5;28;01massert\u001b[39;00m \u001b[38;5;28mself\u001b[39m\u001b[38;5;241m.\u001b[39mhandles \u001b[38;5;129;01mis\u001b[39;00m \u001b[38;5;129;01mnot\u001b[39;00m \u001b[38;5;28;01mNone\u001b[39;00m\n\u001b[1;32m   1672\u001b[0m f \u001b[38;5;241m=\u001b[39m \u001b[38;5;28mself\u001b[39m\u001b[38;5;241m.\u001b[39mhandles\u001b[38;5;241m.\u001b[39mhandle\n",
      "File \u001b[0;32m~/anaconda3/envs/RL-Recommender-Git/lib/python3.10/site-packages/pandas/io/common.py:859\u001b[0m, in \u001b[0;36mget_handle\u001b[0;34m(path_or_buf, mode, encoding, compression, memory_map, is_text, errors, storage_options)\u001b[0m\n\u001b[1;32m    854\u001b[0m \u001b[38;5;28;01melif\u001b[39;00m \u001b[38;5;28misinstance\u001b[39m(handle, \u001b[38;5;28mstr\u001b[39m):\n\u001b[1;32m    855\u001b[0m     \u001b[38;5;66;03m# Check whether the filename is to be opened in binary mode.\u001b[39;00m\n\u001b[1;32m    856\u001b[0m     \u001b[38;5;66;03m# Binary mode does not support 'encoding' and 'newline'.\u001b[39;00m\n\u001b[1;32m    857\u001b[0m     \u001b[38;5;28;01mif\u001b[39;00m ioargs\u001b[38;5;241m.\u001b[39mencoding \u001b[38;5;129;01mand\u001b[39;00m \u001b[38;5;124m\"\u001b[39m\u001b[38;5;124mb\u001b[39m\u001b[38;5;124m\"\u001b[39m \u001b[38;5;129;01mnot\u001b[39;00m \u001b[38;5;129;01min\u001b[39;00m ioargs\u001b[38;5;241m.\u001b[39mmode:\n\u001b[1;32m    858\u001b[0m         \u001b[38;5;66;03m# Encoding\u001b[39;00m\n\u001b[0;32m--> 859\u001b[0m         handle \u001b[38;5;241m=\u001b[39m \u001b[38;5;28;43mopen\u001b[39;49m\u001b[43m(\u001b[49m\n\u001b[1;32m    860\u001b[0m \u001b[43m            \u001b[49m\u001b[43mhandle\u001b[49m\u001b[43m,\u001b[49m\n\u001b[1;32m    861\u001b[0m \u001b[43m            \u001b[49m\u001b[43mioargs\u001b[49m\u001b[38;5;241;43m.\u001b[39;49m\u001b[43mmode\u001b[49m\u001b[43m,\u001b[49m\n\u001b[1;32m    862\u001b[0m \u001b[43m            \u001b[49m\u001b[43mencoding\u001b[49m\u001b[38;5;241;43m=\u001b[39;49m\u001b[43mioargs\u001b[49m\u001b[38;5;241;43m.\u001b[39;49m\u001b[43mencoding\u001b[49m\u001b[43m,\u001b[49m\n\u001b[1;32m    863\u001b[0m \u001b[43m            \u001b[49m\u001b[43merrors\u001b[49m\u001b[38;5;241;43m=\u001b[39;49m\u001b[43merrors\u001b[49m\u001b[43m,\u001b[49m\n\u001b[1;32m    864\u001b[0m \u001b[43m            \u001b[49m\u001b[43mnewline\u001b[49m\u001b[38;5;241;43m=\u001b[39;49m\u001b[38;5;124;43m\"\u001b[39;49m\u001b[38;5;124;43m\"\u001b[39;49m\u001b[43m,\u001b[49m\n\u001b[1;32m    865\u001b[0m \u001b[43m        \u001b[49m\u001b[43m)\u001b[49m\n\u001b[1;32m    866\u001b[0m     \u001b[38;5;28;01melse\u001b[39;00m:\n\u001b[1;32m    867\u001b[0m         \u001b[38;5;66;03m# Binary mode\u001b[39;00m\n\u001b[1;32m    868\u001b[0m         handle \u001b[38;5;241m=\u001b[39m \u001b[38;5;28mopen\u001b[39m(handle, ioargs\u001b[38;5;241m.\u001b[39mmode)\n",
      "\u001b[0;31mFileNotFoundError\u001b[0m: [Errno 2] No such file or directory: '/Users/jb/Documents/GitHub/Intro ML (Nick Pang) Repository/rl-recommender/datasets/processed/lda/user_mappings.csv'"
     ]
    }
   ],
   "source": [
    "# Map values\n",
    "user_dict = pd.read_csv(os.path.join(pth, \"datasets\", \"processed\", \"lda\", \"user_mappings.csv\"))\n",
    "item_dict = pd.read_csv(os.path.join(pth, \"datasets\", \"processed\", \"lda\", \"item_mappings.csv\"))\n",
    "user_dict = dict(zip(user_dict.iloc[:, 1], user_dict.index))\n",
    "item_dict = dict(zip(item_dict.iloc[:, 1], item_dict.index))\n",
    "\n",
    "df['reviewerID'] = df['reviewerID'].map(user_dict).fillna(df['reviewerID'])\n",
    "df['asin'] = df['asin'].map(item_dict).fillna(df['asin'])\n",
    "\n",
    "df[['reviewerID', 'asin']] = df[['reviewerID', 'asin']].astype(int)\n",
    "df['overall'] = df['overall'].astype(float)\n",
    "\n",
    "df = df.sort_values(by=['reviewerID', 'asin'], ignore_index=True)\n",
    "\n",
    "print(df)"
   ]
  },
  {
   "cell_type": "code",
   "execution_count": null,
   "metadata": {},
   "outputs": [],
   "source": [
    "m = df['overall'].mean()\n",
    "np.savez_compressed(os.path.join(pth, \"datasets\", \"processed\", \"Subset_5core_PreprocessLDA.npz\"),\n",
    "                    x = df[['reviewerID', 'asin']],\n",
    "                    y = df['overall'],\n",
    "                    u_size = len(user_dict),\n",
    "                    i_size = len(item_dict),\n",
    "                    m = m)"
   ]
  },
  {
   "cell_type": "markdown",
   "metadata": {},
   "source": [
    "# (2) Create Model\n",
    "\n",
    "This model doesn't use internal LDA YET!"
   ]
  },
  {
   "cell_type": "markdown",
   "metadata": {},
   "source": [
    "### I wanted to test running on Apple Silicon Chips"
   ]
  },
  {
   "cell_type": "code",
   "execution_count": null,
   "metadata": {},
   "outputs": [
    {
     "name": "stdout",
     "output_type": "stream",
     "text": [
      "device_type: mps\n",
      "float_type: torch.float32\n",
      "max value: 139812\n",
      "min value: 0\n",
      "int_type: torch.int32\n"
     ]
    }
   ],
   "source": [
    "device = torch.device('mps' if torch.has_mps else 'cpu')\n",
    "f_type = torch.float32 if device.type == 'mps' else torch.float64\n",
    "print(f\"device_type: {device}\")\n",
    "print(f\"float_type: {f_type}\")\n",
    "\n",
    "\n",
    "max_v = max(df['reviewerID'].max(), df['asin'].max())\n",
    "min_v = max(df['reviewerID'].min(), df['asin'].min())\n",
    "print(f\"max value: {max_v}\\nmin value: {min_v}\")\n",
    "\n",
    "if 0 <= min_v <= 255 and 0 <= max_v <= 255:\n",
    "    int_type = torch.uint8\n",
    "elif -128 <= min_v <= 127 and -128 <= max_v <= 127:\n",
    "    int_type = torch.int8\n",
    "elif -32768 <= min_v <= 32767 and -32768 <= max_v <= 32767:\n",
    "    int_type = torch.int16\n",
    "elif -2147483648 <= min_v <= 2147483647 and -2147483648 <= max_v <= 2147483647:\n",
    "    int_type = torch.int32\n",
    "else:\n",
    "    int_type = torch.int64\n",
    "print(f\"int_type: {int_type}\")"
   ]
  },
  {
   "cell_type": "code",
   "execution_count": null,
   "metadata": {},
   "outputs": [],
   "source": [
    "BATCH_SIZE = 64\n",
    "LEARNING_RATE = 0.0005\n",
    "EPOCHS = 15\n",
    "DECAY = 1e-3\n",
    "DROPOUT = 0.4"
   ]
  },
  {
   "cell_type": "code",
   "execution_count": null,
   "metadata": {},
   "outputs": [],
   "source": [
    "gc.collect()\n",
    "\n",
    "data = np.load(os.path.join(pth, \"datasets\", \"processed\", \"Subset_5core_PreprocessLDA.npz\"))\n",
    "x = data['x']\n",
    "y = data['y']\n",
    "U_size = data['u_size']\n",
    "I_size = data['i_size']\n",
    "G_b = data['m']\n",
    "\n",
    "x_train, x_test, y_train, y_test = train_test_split(x, y, test_size = 0.2)\n",
    "\n",
    "x_train, x_test = torch.tensor(x_train, dtype = int_type).to(device), torch.tensor(x_test, dtype = int_type).to(device) #Int because Embeddings layer\n",
    "y_train, y_test = torch.tensor(y_train, dtype = f_type).to(device), torch.tensor(y_test, dtype = f_type).to(device)\n",
    "\n",
    "loss_fn = RMSELoss()\n",
    "optimizer = Adam"
   ]
  },
  {
   "cell_type": "markdown",
   "metadata": {},
   "source": [
    "### I am adding the class here only so I append **.to(*device*)** for each tensor"
   ]
  },
  {
   "cell_type": "code",
   "execution_count": null,
   "metadata": {},
   "outputs": [],
   "source": [
    "## nn.Embedding initialized to random -1 to 1\n",
    "\n",
    "class MF(nn.Module):\n",
    "    def __init__(self, n_users, n_items, K, dropout=0):\n",
    "        super().__init__()\n",
    "        self.user_m = nn.Embedding(\n",
    "            n_users, K, dtype=f_type\n",
    "        ).to(device)  # can include option sparse = True for memory\n",
    "        self.item_m = nn.Embedding(n_items, K, dtype=f_type).to(device)\n",
    "        self.drop_u = nn.Dropout(dropout)\n",
    "        self.drop_i = nn.Dropout(dropout)\n",
    "\n",
    "    def forward(self, x):\n",
    "        user_ids = x[:, 0]\n",
    "        item_ids = x[:, 1]\n",
    "        user_embeds = self.drop_u(self.user_m(user_ids))\n",
    "        item_embeds = self.drop_i(self.item_m(item_ids))\n",
    "        prod = user_embeds * item_embeds\n",
    "\n",
    "        out = torch.sum(prod, 1)\n",
    "\n",
    "        return out\n",
    "\n",
    "\n",
    "# Matrix factorization with user/item biases\n",
    "class MF_Bias(MF):\n",
    "    def __init__(self, n_users, n_items, K, G_b, dropout=0):\n",
    "        super().__init__(n_users, n_items, K, dropout)\n",
    "\n",
    "        self.user_b = nn.Embedding(n_users, 1, dtype=f_type).to(device)\n",
    "        self.item_b = nn.Embedding(n_items, 1, dtype=f_type).to(device)\n",
    "        nn.init.zeros_(self.user_b.weight)\n",
    "        nn.init.zeros_(self.item_b.weight)\n",
    "\n",
    "        self.G_b = torch.from_numpy(G_b)\n",
    "\n",
    "    def forward(self, x):\n",
    "        user_ids = x[:, 0]\n",
    "        item_ids = x[:, 1]\n",
    "        out = super().forward(x)\n",
    "\n",
    "        user_biases = self.user_b(user_ids).squeeze()\n",
    "        item_biases = self.item_b(item_ids).squeeze()\n",
    "\n",
    "        out += user_biases + item_biases + self.G_b\n",
    "\n",
    "        return out"
   ]
  },
  {
   "cell_type": "code",
   "execution_count": 6,
   "metadata": {},
   "outputs": [
    {
     "ename": "NameError",
     "evalue": "name 'U_size' is not defined",
     "output_type": "error",
     "traceback": [
      "\u001b[0;31m---------------------------------------------------------------------------\u001b[0m",
      "\u001b[0;31mNameError\u001b[0m                                 Traceback (most recent call last)",
      "Cell \u001b[0;32mIn[6], line 1\u001b[0m\n\u001b[0;32m----> 1\u001b[0m model \u001b[38;5;241m=\u001b[39m MF_Bias(\u001b[43mU_size\u001b[49m, I_size, NUM_TOPICS, G_b, DROPOUT)\n",
      "\u001b[0;31mNameError\u001b[0m: name 'U_size' is not defined"
     ]
    }
   ],
   "source": [
    "model = MF_Bias(U_size, I_size, NUM_TOPICS, G_b, DROPOUT)"
   ]
  },
  {
   "cell_type": "code",
   "execution_count": null,
   "metadata": {},
   "outputs": [
    {
     "name": "stdout",
     "output_type": "stream",
     "text": [
      "[-1.0, -0.999999999993915, -0.9999999999958652, -0.9999999999896032, -0.9999999999813972, -0.9999999999991869, -0.9999999999928928, -0.9999999999950818, 0.13893064738778915, 1.0]\n"
     ]
    }
   ],
   "source": [
    "# Since nn.Embedding initialized to random -1 to 1.\n",
    "# Creating a mapping from row -> -1 to 1 \n",
    "\n",
    "def row_mapping(l: list):\n",
    "    min_v = float(\"inf\")\n",
    "    max_v = -float(\"inf\")\n",
    "    \n",
    "    for v in l:\n",
    "        if v > max_v:\n",
    "            max_v = v\n",
    "        if v < min_v:\n",
    "            min_v = v\n",
    "    \n",
    "    return [((2 * (x - min_v)) / (max_v - min_v)) - 1 for x in l]\n",
    "\n",
    "# example\n",
    "print(row_mapping([\n",
    "    0.0063068993260669,\n",
    "    0.0063068993278832,\n",
    "    0.0063068993273011,\n",
    "    0.0063068993291702,\n",
    "    0.0063068993316196,\n",
    "    0.0063068993263096,\n",
    "    0.0063068993281883,\n",
    "    0.0063068993275349,\n",
    "    0.3462632596023473,\n",
    "    0.6032815457735784]))"
   ]
  },
  {
   "cell_type": "code",
   "execution_count": null,
   "metadata": {},
   "outputs": [],
   "source": [
    "user_map = pd.read_csv(os.path.join(pth, \"datasets\", \"processed\", \"lda\", \"user_topics.csv\"))\n",
    "for idx,row  in user_map.iterrows():\n",
    "    row = row[1:] # to remove 'User_ID' from row\n",
    "    row = row.tolist()\n",
    "    row = row_mapping(row)\n",
    "    model.user_m.weight.data[idx] = torch.tensor(row, dtype=f_type).to(device)\n",
    "\n",
    "item_map = pd.read_csv(os.path.join(pth, \"datasets\", \"processed\", \"lda\", \"item_topics.csv\"))\n",
    "for idx,row  in item_map.iterrows():\n",
    "    row = row[1:] # to remove 'Item_ID' from row\n",
    "    row = row.tolist()\n",
    "    row = row_mapping(row)\n",
    "    model.item_m.weight.data[idx] = torch.tensor(row, dtype=f_type).to(device)"
   ]
  },
  {
   "cell_type": "markdown",
   "metadata": {},
   "source": [
    "# (3) Run Model"
   ]
  },
  {
   "cell_type": "code",
   "execution_count": null,
   "metadata": {},
   "outputs": [
    {
     "data": {
      "text/plain": [
       "0"
      ]
     },
     "execution_count": 75,
     "metadata": {},
     "output_type": "execute_result"
    }
   ],
   "source": [
    "regressor = NeuralNetRegressor(\n",
    "    model,\n",
    "    criterion = loss_fn,\n",
    "    optimizer = optimizer,\n",
    "    optimizer__param_groups = [\n",
    "        ('user_m.weight', {'weight_decay': DECAY}),\n",
    "        ('item_m.weight', {'weight_decay': DECAY})\n",
    "    ],\n",
    "    optimizer__lr = LEARNING_RATE,\n",
    "    batch_size = BATCH_SIZE,\n",
    "    max_epochs = EPOCHS\n",
    ")\n",
    "gc.collect()"
   ]
  },
  {
   "cell_type": "markdown",
   "metadata": {},
   "source": [
    "### Borrowed from *save_model_results()*"
   ]
  },
  {
   "cell_type": "code",
   "execution_count": null,
   "metadata": {},
   "outputs": [
    {
     "name": "stdout",
     "output_type": "stream",
     "text": [
      "  epoch    train_loss    valid_loss       dur\n",
      "-------  ------------  ------------  --------\n",
      "      1        \u001b[36m1.7547\u001b[0m        \u001b[32m1.1975\u001b[0m  140.7620\n",
      "      2        \u001b[36m1.1721\u001b[0m        \u001b[32m1.1673\u001b[0m  140.0995\n",
      "      3        \u001b[36m1.1356\u001b[0m        \u001b[32m1.1504\u001b[0m  135.5943\n",
      "      4        \u001b[36m1.1095\u001b[0m        \u001b[32m1.1395\u001b[0m  135.4628\n",
      "      5        \u001b[36m1.0893\u001b[0m        \u001b[32m1.1321\u001b[0m  141.5919\n",
      "      6        \u001b[36m1.0730\u001b[0m        \u001b[32m1.1269\u001b[0m  137.5206\n",
      "      7        \u001b[36m1.0596\u001b[0m        \u001b[32m1.1232\u001b[0m  128.6423\n",
      "      8        \u001b[36m1.0483\u001b[0m        \u001b[32m1.1206\u001b[0m  123.2708\n",
      "      9        \u001b[36m1.0385\u001b[0m        \u001b[32m1.1188\u001b[0m  130.8780\n",
      "     10        \u001b[36m1.0301\u001b[0m        \u001b[32m1.1176\u001b[0m  129.2637\n",
      "     11        \u001b[36m1.0228\u001b[0m        \u001b[32m1.1168\u001b[0m  128.0783\n",
      "     12        \u001b[36m1.0163\u001b[0m        \u001b[32m1.1164\u001b[0m  128.1282\n",
      "     13        \u001b[36m1.0105\u001b[0m        \u001b[32m1.1163\u001b[0m  127.3894\n",
      "     14        \u001b[36m1.0054\u001b[0m        1.1164  128.7071\n",
      "     15        \u001b[36m1.0008\u001b[0m        1.1166  129.8037\n"
     ]
    }
   ],
   "source": [
    "results = regressor.fit(x_train, y_train)\n",
    "history = results.history\n",
    "\n",
    "tr_losses = [i['train_loss'] for i in history]\n",
    "t_losses = [i['valid_loss'] for i in history]\n",
    "\n",
    "with open(os.path.join(pth, \"results\", f\"User-Item-Model_{device}_{f_type}.pkl\"), 'wb') as f:\n",
    "    pickle.dump(model, f)\n",
    "\n",
    "np.savez_compressed(os.path.join(pth, \"results\", f\"User-Item-Model_{device}_{f_type}.npz\"),\n",
    "                    tr_loss = tr_losses,\n",
    "                    t_loss = t_losses)"
   ]
  },
  {
   "cell_type": "markdown",
   "metadata": {},
   "source": [
    "### Another Model without setting the weights"
   ]
  },
  {
   "cell_type": "code",
   "execution_count": null,
   "metadata": {},
   "outputs": [],
   "source": [
    "model = MF_Bias(U_size, I_size, NUM_TOPICS, G_b, DROPOUT)"
   ]
  },
  {
   "cell_type": "code",
   "execution_count": null,
   "metadata": {},
   "outputs": [
    {
     "data": {
      "text/plain": [
       "80"
      ]
     },
     "execution_count": 78,
     "metadata": {},
     "output_type": "execute_result"
    }
   ],
   "source": [
    "regressor = NeuralNetRegressor(\n",
    "    model,\n",
    "    criterion = loss_fn,\n",
    "    optimizer = optimizer,\n",
    "    optimizer__param_groups = [\n",
    "        ('user_m.weight', {'weight_decay': DECAY}),\n",
    "        ('item_m.weight', {'weight_decay': DECAY})\n",
    "    ],\n",
    "    optimizer__lr = LEARNING_RATE,\n",
    "    batch_size = BATCH_SIZE,\n",
    "    max_epochs = EPOCHS\n",
    ")\n",
    "gc.collect()"
   ]
  },
  {
   "cell_type": "code",
   "execution_count": null,
   "metadata": {},
   "outputs": [
    {
     "name": "stdout",
     "output_type": "stream",
     "text": [
      "  epoch    train_loss    valid_loss       dur\n",
      "-------  ------------  ------------  --------\n",
      "      1        \u001b[36m1.5791\u001b[0m        \u001b[32m1.1964\u001b[0m  124.7829\n",
      "      2        \u001b[36m1.1723\u001b[0m        \u001b[32m1.1685\u001b[0m  123.6220\n",
      "      3        \u001b[36m1.1366\u001b[0m        \u001b[32m1.1516\u001b[0m  124.4638\n",
      "      4        \u001b[36m1.1104\u001b[0m        \u001b[32m1.1404\u001b[0m  130.1095\n",
      "      5        \u001b[36m1.0901\u001b[0m        \u001b[32m1.1329\u001b[0m  131.6274\n",
      "      6        \u001b[36m1.0737\u001b[0m        \u001b[32m1.1275\u001b[0m  128.5890\n",
      "      7        \u001b[36m1.0602\u001b[0m        \u001b[32m1.1238\u001b[0m  126.5420\n",
      "      8        \u001b[36m1.0488\u001b[0m        \u001b[32m1.1211\u001b[0m  129.6380\n",
      "      9        \u001b[36m1.0390\u001b[0m        \u001b[32m1.1192\u001b[0m  122.3929\n",
      "     10        \u001b[36m1.0305\u001b[0m        \u001b[32m1.1179\u001b[0m  120.5147\n",
      "     11        \u001b[36m1.0231\u001b[0m        \u001b[32m1.1171\u001b[0m  125.7623\n",
      "     12        \u001b[36m1.0166\u001b[0m        \u001b[32m1.1167\u001b[0m  127.1980\n",
      "     13        \u001b[36m1.0108\u001b[0m        \u001b[32m1.1165\u001b[0m  130.0109\n",
      "     14        \u001b[36m1.0057\u001b[0m        1.1166  128.4058\n",
      "     15        \u001b[36m1.0010\u001b[0m        1.1168  127.4115\n"
     ]
    }
   ],
   "source": [
    "results = regressor.fit(x_train, y_train)\n",
    "history = results.history\n",
    "\n",
    "tr_losses = [i['train_loss'] for i in history]\n",
    "t_losses = [i['valid_loss'] for i in history]\n",
    "\n",
    "with open(os.path.join(pth, \"results\", f\"No-Adjustments-Model_{device}_{f_type}.pkl\"), 'wb') as f:\n",
    "    pickle.dump(model, f)\n",
    "\n",
    "np.savez_compressed(os.path.join(pth, \"results\", f\"No-Adjustments-Model_{device}_{f_type}.npz\"),\n",
    "                    tr_loss = tr_losses,\n",
    "                    t_loss = t_losses)"
   ]
  },
  {
   "cell_type": "markdown",
   "metadata": {},
   "source": [
    "### Only Preprocessed Users & Only Items"
   ]
  },
  {
   "cell_type": "code",
   "execution_count": null,
   "metadata": {},
   "outputs": [],
   "source": [
    "model_users = MF_Bias(U_size, I_size, NUM_TOPICS, G_b, DROPOUT)\n",
    "model_items = MF_Bias(U_size, I_size, NUM_TOPICS, G_b, DROPOUT)"
   ]
  },
  {
   "cell_type": "code",
   "execution_count": null,
   "metadata": {},
   "outputs": [],
   "source": [
    "user_map = pd.read_csv(os.path.join(pth, \"datasets\", \"processed\", \"lda\", \"user_topics.csv\"))\n",
    "for idx,row  in user_map.iterrows():\n",
    "    row = row[1:] # to remove 'User_ID' from row\n",
    "    row = row.tolist()\n",
    "    row = row_mapping(row)\n",
    "    model_users.user_m.weight.data[idx] = torch.tensor(row, dtype=f_type).to(device)\n",
    "\n",
    "item_map = pd.read_csv(os.path.join(pth, \"datasets\", \"processed\", \"lda\", \"item_topics.csv\"))\n",
    "for idx,row  in item_map.iterrows():\n",
    "    row = row[1:] # to remove 'Item_ID' from row\n",
    "    row = row.tolist()\n",
    "    row = row_mapping(row)\n",
    "    model_items.item_m.weight.data[idx] = torch.tensor(row, dtype=f_type).to(device)"
   ]
  },
  {
   "cell_type": "code",
   "execution_count": null,
   "metadata": {},
   "outputs": [],
   "source": [
    "regressor_users = NeuralNetRegressor(\n",
    "    model_users,\n",
    "    criterion = loss_fn,\n",
    "    optimizer = optimizer,\n",
    "    optimizer__param_groups = [\n",
    "        ('user_m.weight', {'weight_decay': DECAY}),\n",
    "        ('item_m.weight', {'weight_decay': DECAY})\n",
    "    ],\n",
    "    optimizer__lr = LEARNING_RATE,\n",
    "    batch_size = BATCH_SIZE,\n",
    "    max_epochs = EPOCHS\n",
    ")\n",
    "regressor_items = NeuralNetRegressor(\n",
    "    model_items,\n",
    "    criterion = loss_fn,\n",
    "    optimizer = optimizer,\n",
    "    optimizer__param_groups = [\n",
    "        ('user_m.weight', {'weight_decay': DECAY}),\n",
    "        ('item_m.weight', {'weight_decay': DECAY})\n",
    "    ],\n",
    "    optimizer__lr = LEARNING_RATE,\n",
    "    batch_size = BATCH_SIZE,\n",
    "    max_epochs = EPOCHS\n",
    ")"
   ]
  },
  {
   "cell_type": "code",
   "execution_count": null,
   "metadata": {},
   "outputs": [
    {
     "name": "stdout",
     "output_type": "stream",
     "text": [
      "  epoch    train_loss    valid_loss       dur\n",
      "-------  ------------  ------------  --------\n",
      "      1        \u001b[36m1.4857\u001b[0m        \u001b[32m1.1964\u001b[0m  122.9196\n",
      "      2        \u001b[36m1.1723\u001b[0m        \u001b[32m1.1684\u001b[0m  124.7514\n",
      "      3        \u001b[36m1.1366\u001b[0m        \u001b[32m1.1515\u001b[0m  125.4744\n",
      "      4        \u001b[36m1.1104\u001b[0m        \u001b[32m1.1404\u001b[0m  123.9409\n",
      "      5        \u001b[36m1.0900\u001b[0m        \u001b[32m1.1328\u001b[0m  126.2772\n",
      "      6        \u001b[36m1.0736\u001b[0m        \u001b[32m1.1275\u001b[0m  134.4627\n",
      "      7        \u001b[36m1.0601\u001b[0m        \u001b[32m1.1237\u001b[0m  133.5554\n",
      "      8        \u001b[36m1.0487\u001b[0m        \u001b[32m1.1211\u001b[0m  132.6427\n",
      "      9        \u001b[36m1.0389\u001b[0m        \u001b[32m1.1192\u001b[0m  319.8989\n",
      "     10        \u001b[36m1.0305\u001b[0m        \u001b[32m1.1179\u001b[0m  199.9734\n",
      "     11        \u001b[36m1.0231\u001b[0m        \u001b[32m1.1171\u001b[0m  131.4850\n",
      "     12        \u001b[36m1.0166\u001b[0m        \u001b[32m1.1167\u001b[0m  126.8075\n",
      "     13        \u001b[36m1.0108\u001b[0m        \u001b[32m1.1165\u001b[0m  123.5725\n",
      "     14        \u001b[36m1.0056\u001b[0m        1.1166  117.8355\n",
      "     15        \u001b[36m1.0010\u001b[0m        1.1168  123.4400\n"
     ]
    }
   ],
   "source": [
    "results = regressor_users.fit(x_train, y_train)\n",
    "history = results.history\n",
    "\n",
    "tr_losses = [i['train_loss'] for i in history]\n",
    "t_losses = [i['valid_loss'] for i in history]\n",
    "\n",
    "with open(os.path.join(pth, \"results\", f\"Users-Only-Model_{device}_{f_type}.pkl\"), 'wb') as f:\n",
    "    pickle.dump(model, f)\n",
    "\n",
    "np.savez_compressed(os.path.join(pth, \"results\", f\"Users-Only-Model_{device}_{f_type}.npz\"),\n",
    "                    tr_loss = tr_losses,\n",
    "                    t_loss = t_losses)"
   ]
  },
  {
   "cell_type": "code",
   "execution_count": null,
   "metadata": {},
   "outputs": [
    {
     "name": "stdout",
     "output_type": "stream",
     "text": [
      "  epoch    train_loss    valid_loss       dur\n",
      "-------  ------------  ------------  --------\n",
      "      1        \u001b[36m1.5360\u001b[0m        \u001b[32m1.1964\u001b[0m  125.1076\n",
      "      2        \u001b[36m1.1724\u001b[0m        \u001b[32m1.1685\u001b[0m  124.1936\n",
      "      3        \u001b[36m1.1367\u001b[0m        \u001b[32m1.1516\u001b[0m  123.8268\n",
      "      4        \u001b[36m1.1105\u001b[0m        \u001b[32m1.1405\u001b[0m  122.7363\n",
      "      5        \u001b[36m1.0902\u001b[0m        \u001b[32m1.1329\u001b[0m  123.8214\n",
      "      6        \u001b[36m1.0738\u001b[0m        \u001b[32m1.1275\u001b[0m  124.9589\n",
      "      7        \u001b[36m1.0602\u001b[0m        \u001b[32m1.1238\u001b[0m  120.4494\n",
      "      8        \u001b[36m1.0488\u001b[0m        \u001b[32m1.1211\u001b[0m  121.4622\n",
      "      9        \u001b[36m1.0390\u001b[0m        \u001b[32m1.1192\u001b[0m  120.7920\n",
      "     10        \u001b[36m1.0306\u001b[0m        \u001b[32m1.1179\u001b[0m  123.8679\n",
      "     11        \u001b[36m1.0232\u001b[0m        \u001b[32m1.1171\u001b[0m  122.6067\n",
      "     12        \u001b[36m1.0166\u001b[0m        \u001b[32m1.1167\u001b[0m  118.7725\n",
      "     13        \u001b[36m1.0108\u001b[0m        \u001b[32m1.1165\u001b[0m  117.8177\n",
      "     14        \u001b[36m1.0057\u001b[0m        1.1166  118.7095\n",
      "     15        \u001b[36m1.0010\u001b[0m        1.1168  122.4903\n"
     ]
    }
   ],
   "source": [
    "results = regressor_items.fit(x_train, y_train)\n",
    "history = results.history\n",
    "\n",
    "tr_losses = [i['train_loss'] for i in history]\n",
    "t_losses = [i['valid_loss'] for i in history]\n",
    "\n",
    "with open(os.path.join(pth, \"results\", f\"Items-Only-Model_{device}_{f_type}.pkl\"), 'wb') as f:\n",
    "    pickle.dump(model, f)\n",
    "\n",
    "np.savez_compressed(os.path.join(pth, \"results\", f\"Items-Only-Model_{device}_{f_type}.npz\"),\n",
    "                    tr_loss = tr_losses,\n",
    "                    t_loss = t_losses)"
   ]
  },
  {
   "cell_type": "markdown",
   "metadata": {},
   "source": [
    "# (4) Graphs"
   ]
  },
  {
   "cell_type": "code",
   "execution_count": null,
   "metadata": {},
   "outputs": [
    {
     "data": {
      "text/plain": [
       "0"
      ]
     },
     "execution_count": 85,
     "metadata": {},
     "output_type": "execute_result"
    }
   ],
   "source": [
    "gc.collect()"
   ]
  },
  {
   "cell_type": "code",
   "execution_count": null,
   "metadata": {},
   "outputs": [
    {
     "data": {
      "image/png": "[encoded data removed]",
      "text/plain": [
       "<Figure size 640x480 with 1 Axes>"
      ]
     },
     "metadata": {},
     "output_type": "display_data"
    }
   ],
   "source": [
    "import matplotlib.pyplot as plt\n",
    "p = np.load(os.path.join(pth, \"results\", f\"User-Item-Model_{device}_{f_type}.npz\"))\n",
    "not_p = np.load(os.path.join(pth, \"results\", f\"No-Adjustments-Model_{device}_{f_type}.npz\"))\n",
    "u = np.load(os.path.join(pth, \"results\", f\"Users-Only-Model_{device}_{f_type}.npz\"))\n",
    "i = np.load(os.path.join(pth, \"results\", f\"Items-Only-Model_{device}_{f_type}.npz\"))\n",
    "\n",
    "plt.plot([i+1 for i in range(EPOCHS)], p['t_loss'], label='LDA Preprocessed')\n",
    "plt.plot([i+1 for i in range(EPOCHS)], not_p['t_loss'], label='Baseline')\n",
    "plt.plot([i+1 for i in range(EPOCHS)], u['t_loss'], label='Only Users')\n",
    "plt.plot([i+1 for i in range(EPOCHS)], i['t_loss'], label='Only Items')\n",
    "plt.xlabel('Epochs')\n",
    "plt.ylabel('Loss RMSE')\n",
    "plt.title('LDA Preprocessing Performance')\n",
    "plt.legend()\n",
    "plt.show()"
   ]
  },
  {
   "cell_type": "code",
   "execution_count": null,
   "metadata": {},
   "outputs": [
    {
     "data": {
      "image/png": "[encoded data removed]",
      "text/plain": [
       "<Figure size 640x480 with 1 Axes>"
      ]
     },
     "metadata": {},
     "output_type": "display_data"
    }
   ],
   "source": [
    "factor = list()\n",
    "for i in range(len(p['t_loss'])):\n",
    "    f = (100 *(float(not_p['t_loss'][i]) / float(p['t_loss'][i]))) - 100\n",
    "    factor.append(f)\n",
    "\n",
    "plt.plot([i+1 for i in range(EPOCHS)], factor, label='% Improvement')\n",
    "plt.xlabel('Epochs')\n",
    "plt.ylabel('% LDA Preprocessed over Baseline')\n",
    "plt.title('Comparison')\n",
    "plt.legend()\n",
    "plt.show()"
   ]
  }
 ],
 "metadata": {
  "kernelspec": {
   "display_name": "RL-Recommender-Git",
   "language": "python",
   "name": "python3"
  },
  "language_info": {
   "codemirror_mode": {
    "name": "ipython",
    "version": 3
   },
   "file_extension": ".py",
   "mimetype": "text/x-python",
   "name": "python",
   "nbconvert_exporter": "python",
   "pygments_lexer": "ipython3",
   "version": "3.10.13"
  }
 },
 "nbformat": 4,
 "nbformat_minor": 2
}
