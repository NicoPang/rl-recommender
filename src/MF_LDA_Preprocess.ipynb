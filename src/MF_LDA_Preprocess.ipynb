{
 "cells": [
  {
   "cell_type": "markdown",
   "metadata": {},
   "source": [
    "# (1) Preprocessing Dataset"
   ]
  },
  {
   "cell_type": "markdown",
   "metadata": {},
   "source": [
    "Make sure dataset file are in correct location.\n",
    "run preprocess.py"
   ]
  },
  {
   "cell_type": "code",
   "execution_count": 1,
   "metadata": {},
   "outputs": [],
   "source": [
    "from data.LDA import preprocess_text\n",
    "from train.saving import save_model_results\n",
    "from model.mf import MF_Bias, LDANet\n",
    "from model.utility import RMSELoss\n",
    "\n",
    "\n",
    "import pickle\n",
    "import matplotlib.pyplot as plt\n",
    "import os\n",
    "import numpy as np\n",
    "import pandas as pd\n",
    "import torch\n",
    "import torch.nn as nn\n",
    "from torch.optim import Adam\n",
    "import gc\n",
    "from sklearn.model_selection import train_test_split\n",
    "from sklearn.feature_extraction.text import TfidfVectorizer\n",
    "from train.saving import save_model_results\n",
    "from skorch import NeuralNetRegressor"
   ]
  },
  {
   "cell_type": "code",
   "execution_count": 2,
   "metadata": {},
   "outputs": [
    {
     "name": "stdout",
     "output_type": "stream",
     "text": [
      "/Users/jb/Documents/GitHub/Intro ML (Nick Pang) Repository/rl-recommender\n"
     ]
    }
   ],
   "source": [
    "subsets = {\n",
    "        \"Toys_and_Games_5.json\",\n",
    "        \"Apps_for_Android_5.json\",\n",
    "        \"Health_and_Personal_Care_5.json\",\n",
    "    }\n",
    "pth = os.getcwd()[:-4]\n",
    "NUM_TOPICS = 10\n",
    "#preprocess_text(dataset=subsets, pth=pth, n_topics=NUM_TOPICS)\n",
    "print(pth)"
   ]
  },
  {
   "cell_type": "code",
   "execution_count": 3,
   "metadata": {},
   "outputs": [],
   "source": [
    "TG5_df = pd.read_json(os.path.join(pth, \"datasets\", \"raw\",\"Toys_and_Games_5.json\"), lines=True)\n",
    "AA5_df = pd.read_json(os.path.join(pth, \"datasets\", \"raw\", \"Apps_for_Android_5.json\"), lines=True)\n",
    "HPC_df = pd.read_json(os.path.join(pth, \"datasets\", \"raw\", \"Health_and_Personal_Care_5.json\"), lines=True)\n",
    "\n",
    "df = pd.concat([TG5_df, AA5_df, HPC_df], axis=0)\n",
    "del TG5_df, AA5_df, HPC_df"
   ]
  },
  {
   "cell_type": "code",
   "execution_count": 4,
   "metadata": {},
   "outputs": [
    {
     "name": "stdout",
     "output_type": "stream",
     "text": [
      "        reviewerID   asin  overall\n",
      "0           124394  31743      5.0\n",
      "1           124395  31743      4.0\n",
      "2           124396  31743      5.0\n",
      "3           124397  31743      5.0\n",
      "4           124398  31743      4.0\n",
      "...            ...    ...      ...\n",
      "346350       29878  18533      5.0\n",
      "346351       37951  18533      5.0\n",
      "346352       36501  18533      5.0\n",
      "346353       36040  18533      5.0\n",
      "346354       36504  18533      5.0\n",
      "\n",
      "[1266889 rows x 3 columns]\n"
     ]
    }
   ],
   "source": [
    "# Keep essentials only\n",
    "df = df[['reviewerID', 'asin', 'overall']]\n",
    "\n",
    "# Map values\n",
    "user_dict = pd.read_csv(os.path.join(pth, \"datasets\", \"processed\", \"lda\", \"user_mappings.csv\"))\n",
    "item_dict = pd.read_csv(os.path.join(pth, \"datasets\", \"processed\", \"lda\", \"item_mappings.csv\"))\n",
    "user_dict = dict(zip(user_dict.iloc[:, 1], user_dict.index))\n",
    "item_dict = dict(zip(item_dict.iloc[:, 1], item_dict.index))\n",
    "\n",
    "df['reviewerID'] = df['reviewerID'].map(user_dict).fillna(df['reviewerID'])\n",
    "df['asin'] = df['asin'].map(item_dict).fillna(df['asin'])\n",
    "\n",
    "df[['reviewerID', 'asin']] = df[['reviewerID', 'asin']].astype(int)\n",
    "df['overall'] = df['overall'].astype(float)\n",
    "\n",
    "print(df)"
   ]
  },
  {
   "cell_type": "code",
   "execution_count": 5,
   "metadata": {},
   "outputs": [],
   "source": [
    "m = df['overall'].mean()\n",
    "np.savez_compressed(os.path.join(pth, \"datasets\", \"processed\", \"Subset_5core_PreprocessLDA.npz\"),\n",
    "                    x = df[['reviewerID', 'asin']],\n",
    "                    y = df['overall'],\n",
    "                    u_size = len(user_dict),\n",
    "                    i_size = len(item_dict),\n",
    "                    m = m)"
   ]
  },
  {
   "cell_type": "markdown",
   "metadata": {},
   "source": [
    "# (2) Create Model\n",
    "\n",
    "This model doesn't use internal LDA YET!"
   ]
  },
  {
   "cell_type": "markdown",
   "metadata": {},
   "source": [
    "### I wanted to test running on Apple Silicon Chips"
   ]
  },
  {
   "cell_type": "code",
   "execution_count": 6,
   "metadata": {},
   "outputs": [
    {
     "name": "stdout",
     "output_type": "stream",
     "text": [
      "device_type: mps\n",
      "float_type: torch.float32\n"
     ]
    }
   ],
   "source": [
    "device = torch.device('mps' if torch.has_mps else 'cpu')\n",
    "f_type = torch.float32 if device.type == 'mps' else torch.float64\n",
    "print(f\"device_type: {device}\")\n",
    "print(f\"float_type: {f_type}\")"
   ]
  },
  {
   "cell_type": "code",
   "execution_count": 7,
   "metadata": {},
   "outputs": [],
   "source": [
    "BATCH_SIZE = 64\n",
    "LEARNING_RATE = 0.0005\n",
    "EPOCHS = 15\n",
    "DECAY = 1e-3\n",
    "DROPOUT = 0.4"
   ]
  },
  {
   "cell_type": "code",
   "execution_count": 8,
   "metadata": {},
   "outputs": [],
   "source": [
    "gc.collect()\n",
    "\n",
    "data = np.load(os.path.join(pth, \"datasets\", \"processed\", \"Subset_5core_PreprocessLDA.npz\"))\n",
    "x = data['x']\n",
    "y = data['y']\n",
    "U_size = data['u_size']\n",
    "I_size = data['i_size']\n",
    "G_b = data['m']\n",
    "\n",
    "x_train, x_test, y_train, y_test = train_test_split(x, y, test_size = 0.2)\n",
    "y_train, y_test = torch.tensor(y_train, dtype = f_type).to(device), torch.tensor(y_test, dtype = f_type).to(device)\n",
    "\n",
    "loss_fn = RMSELoss()\n",
    "optimizer = Adam"
   ]
  },
  {
   "cell_type": "markdown",
   "metadata": {},
   "source": [
    "### I am adding the class here only so I append **.to(*device*)** for each tensor"
   ]
  },
  {
   "cell_type": "code",
   "execution_count": 9,
   "metadata": {},
   "outputs": [],
   "source": [
    "class MF(nn.Module):\n",
    "    def __init__(self, n_users, n_items, K, dropout=0):\n",
    "        super().__init__()\n",
    "        self.user_m = nn.Embedding(\n",
    "            n_users, K, dtype=f_type\n",
    "        ).to(device)  # can include option sparse = True for memory\n",
    "        self.item_m = nn.Embedding(n_items, K, dtype=f_type).to(device)\n",
    "        self.drop_u = nn.Dropout(dropout)\n",
    "        self.drop_i = nn.Dropout(dropout)\n",
    "\n",
    "    def forward(self, x):\n",
    "        user_ids = x[:, 0]\n",
    "        item_ids = x[:, 1]\n",
    "        user_embeds = self.drop_u(self.user_m(user_ids))\n",
    "        item_embeds = self.drop_i(self.item_m(item_ids))\n",
    "        prod = user_embeds * item_embeds\n",
    "\n",
    "        out = torch.sum(prod, 1)\n",
    "\n",
    "        return out\n",
    "\n",
    "\n",
    "# Matrix factorization with user/item biases\n",
    "class MF_Bias(MF):\n",
    "    def __init__(self, n_users, n_items, K, G_b, dropout=0):\n",
    "        super().__init__(n_users, n_items, K, dropout)\n",
    "\n",
    "        self.user_b = nn.Embedding(n_users, 1, dtype=f_type).to(device)\n",
    "        self.item_b = nn.Embedding(n_items, 1, dtype=f_type).to(device)\n",
    "        nn.init.zeros_(self.user_b.weight)\n",
    "        nn.init.zeros_(self.item_b.weight)\n",
    "\n",
    "        self.G_b = torch.from_numpy(G_b)\n",
    "\n",
    "    def forward(self, x):\n",
    "        user_ids = x[:, 0]\n",
    "        item_ids = x[:, 1]\n",
    "        out = super().forward(x)\n",
    "\n",
    "        user_biases = self.user_b(user_ids).squeeze()\n",
    "        item_biases = self.item_b(item_ids).squeeze()\n",
    "\n",
    "        out += user_biases + item_biases + self.G_b\n",
    "\n",
    "        return out"
   ]
  },
  {
   "cell_type": "code",
   "execution_count": 10,
   "metadata": {},
   "outputs": [],
   "source": [
    "model = MF_Bias(U_size, I_size, NUM_TOPICS, G_b, DROPOUT)"
   ]
  },
  {
   "cell_type": "code",
   "execution_count": 11,
   "metadata": {},
   "outputs": [],
   "source": [
    "user_map = pd.read_csv(os.path.join(pth, \"datasets\", \"processed\", \"lda\", \"user_topics.csv\"))\n",
    "for idx,row  in user_map.iterrows():\n",
    "    row = row[1:] # to remove 'User_ID' from row\n",
    "    model.user_m.weight.data[idx] = torch.tensor(row.values, dtype=f_type).to(device)\n",
    "\n",
    "item_map = pd.read_csv(os.path.join(pth, \"datasets\", \"processed\", \"lda\", \"item_topics.csv\"))\n",
    "for idx,row  in item_map.iterrows():\n",
    "    row = row[1:] # to remove 'Item_ID' from row\n",
    "    model.item_m.weight.data[idx] = torch.tensor(row.values, dtype=f_type).to(device)"
   ]
  },
  {
   "cell_type": "markdown",
   "metadata": {},
   "source": [
    "# (3) Run Model"
   ]
  },
  {
   "cell_type": "code",
   "execution_count": 12,
   "metadata": {},
   "outputs": [
    {
     "data": {
      "text/plain": [
       "0"
      ]
     },
     "execution_count": 12,
     "metadata": {},
     "output_type": "execute_result"
    }
   ],
   "source": [
    "regressor = NeuralNetRegressor(\n",
    "    model,\n",
    "    criterion = loss_fn,\n",
    "    optimizer = optimizer,\n",
    "    optimizer__param_groups = [\n",
    "        ('user_m.weight', {'weight_decay': DECAY}),\n",
    "        ('item_m.weight', {'weight_decay': DECAY})\n",
    "    ],\n",
    "    optimizer__lr = LEARNING_RATE,\n",
    "    batch_size = BATCH_SIZE,\n",
    "    max_epochs = EPOCHS\n",
    ")\n",
    "gc.collect()"
   ]
  },
  {
   "cell_type": "markdown",
   "metadata": {},
   "source": [
    "### Borrowed from *save_model_results()*"
   ]
  },
  {
   "cell_type": "code",
   "execution_count": 14,
   "metadata": {},
   "outputs": [
    {
     "name": "stdout",
     "output_type": "stream",
     "text": [
      "Re-initializing module.\n",
      "Re-initializing criterion.\n",
      "Re-initializing optimizer.\n",
      "  epoch    train_loss    valid_loss       dur\n",
      "-------  ------------  ------------  --------\n",
      "      1        \u001b[36m1.1896\u001b[0m        \u001b[32m1.1802\u001b[0m  109.1130\n",
      "      2        \u001b[36m1.1489\u001b[0m        \u001b[32m1.1594\u001b[0m  110.3560\n",
      "      3        \u001b[36m1.1194\u001b[0m        \u001b[32m1.1461\u001b[0m  115.2408\n",
      "      4        \u001b[36m1.0970\u001b[0m        \u001b[32m1.1372\u001b[0m  109.3161\n",
      "      5        \u001b[36m1.0792\u001b[0m        \u001b[32m1.1309\u001b[0m  107.9566\n",
      "      6        \u001b[36m1.0646\u001b[0m        \u001b[32m1.1265\u001b[0m  101.8752\n",
      "      7        \u001b[36m1.0524\u001b[0m        \u001b[32m1.1233\u001b[0m  95.2898\n",
      "      8        \u001b[36m1.0420\u001b[0m        \u001b[32m1.1211\u001b[0m  84.7460\n",
      "      9        \u001b[36m1.0331\u001b[0m        \u001b[32m1.1195\u001b[0m  84.3467\n",
      "     10        \u001b[36m1.0254\u001b[0m        \u001b[32m1.1184\u001b[0m  84.7126\n",
      "     11        \u001b[36m1.0185\u001b[0m        \u001b[32m1.1177\u001b[0m  84.6746\n",
      "     12        \u001b[36m1.0125\u001b[0m        \u001b[32m1.1174\u001b[0m  83.7785\n",
      "     13        \u001b[36m1.0071\u001b[0m        \u001b[32m1.1173\u001b[0m  84.7701\n",
      "     14        \u001b[36m1.0023\u001b[0m        1.1174  85.1043\n",
      "     15        \u001b[36m0.9980\u001b[0m        1.1176  84.2645\n"
     ]
    }
   ],
   "source": [
    "results = regressor.fit(x_train, y_train)\n",
    "history = results.history\n",
    "\n",
    "tr_losses = [i['train_loss'] for i in history]\n",
    "t_losses = [i['valid_loss'] for i in history]\n",
    "\n",
    "with open(os.path.join(pth, \"results\", f\"model_PreprocessingLDA_{device}_{f_type}.pkl\"), 'wb') as f:\n",
    "    pickle.dump(model, f)\n",
    "\n",
    "np.savez_compressed(os.path.join(pth, \"results\", f\"Both_MPBais_PreprocessLDA_{device}_{f_type}.npz\"),\n",
    "                    tr_loss = tr_losses,\n",
    "                    t_loss = t_losses)"
   ]
  },
  {
   "cell_type": "markdown",
   "metadata": {},
   "source": [
    "### Another Model without setting the weights"
   ]
  },
  {
   "cell_type": "code",
   "execution_count": 15,
   "metadata": {},
   "outputs": [],
   "source": [
    "model = MF_Bias(U_size, I_size, NUM_TOPICS, G_b, DROPOUT)"
   ]
  },
  {
   "cell_type": "code",
   "execution_count": 16,
   "metadata": {},
   "outputs": [
    {
     "data": {
      "text/plain": [
       "0"
      ]
     },
     "execution_count": 16,
     "metadata": {},
     "output_type": "execute_result"
    }
   ],
   "source": [
    "regressor = NeuralNetRegressor(\n",
    "    model,\n",
    "    criterion = loss_fn,\n",
    "    optimizer = optimizer,\n",
    "    optimizer__param_groups = [\n",
    "        ('user_m.weight', {'weight_decay': DECAY}),\n",
    "        ('item_m.weight', {'weight_decay': DECAY})\n",
    "    ],\n",
    "    optimizer__lr = LEARNING_RATE,\n",
    "    batch_size = BATCH_SIZE,\n",
    "    max_epochs = EPOCHS\n",
    ")\n",
    "gc.collect()"
   ]
  },
  {
   "cell_type": "code",
   "execution_count": 17,
   "metadata": {},
   "outputs": [
    {
     "name": "stdout",
     "output_type": "stream",
     "text": [
      "  epoch    train_loss    valid_loss      dur\n",
      "-------  ------------  ------------  -------\n",
      "      1        \u001b[36m1.5809\u001b[0m        \u001b[32m1.1981\u001b[0m  90.7385\n",
      "      2        \u001b[36m1.1700\u001b[0m        \u001b[32m1.1699\u001b[0m  94.3932\n",
      "      3        \u001b[36m1.1345\u001b[0m        \u001b[32m1.1528\u001b[0m  97.1234\n",
      "      4        \u001b[36m1.1085\u001b[0m        \u001b[32m1.1416\u001b[0m  96.4786\n",
      "      5        \u001b[36m1.0883\u001b[0m        \u001b[32m1.1340\u001b[0m  96.4588\n",
      "      6        \u001b[36m1.0720\u001b[0m        \u001b[32m1.1287\u001b[0m  98.6336\n",
      "      7        \u001b[36m1.0586\u001b[0m        \u001b[32m1.1249\u001b[0m  91.7633\n",
      "      8        \u001b[36m1.0473\u001b[0m        \u001b[32m1.1221\u001b[0m  97.7357\n",
      "      9        \u001b[36m1.0377\u001b[0m        \u001b[32m1.1202\u001b[0m  94.0399\n",
      "     10        \u001b[36m1.0293\u001b[0m        \u001b[32m1.1188\u001b[0m  98.4639\n",
      "     11        \u001b[36m1.0220\u001b[0m        \u001b[32m1.1180\u001b[0m  93.0571\n",
      "     12        \u001b[36m1.0156\u001b[0m        \u001b[32m1.1174\u001b[0m  94.4875\n",
      "     13        \u001b[36m1.0099\u001b[0m        \u001b[32m1.1172\u001b[0m  95.7955\n",
      "     14        \u001b[36m1.0048\u001b[0m        \u001b[32m1.1172\u001b[0m  96.1090\n",
      "     15        \u001b[36m1.0002\u001b[0m        1.1174  93.5907\n"
     ]
    }
   ],
   "source": [
    "results = regressor.fit(x_train, y_train)\n",
    "history = results.history\n",
    "\n",
    "tr_losses = [i['train_loss'] for i in history]\n",
    "t_losses = [i['valid_loss'] for i in history]\n",
    "\n",
    "with open(os.path.join(pth, \"results\", f\"model_PreprocessingLDA_{device}_{f_type}.pkl\"), 'wb') as f:\n",
    "    pickle.dump(model, f)\n",
    "\n",
    "np.savez_compressed(os.path.join(pth, \"results\", f\"MPBais_Baseline_{device}_{f_type}.npz\"),\n",
    "                    tr_loss = tr_losses,\n",
    "                    t_loss = t_losses)"
   ]
  },
  {
   "cell_type": "markdown",
   "metadata": {},
   "source": [
    "### Only Preprocessed Users & Only Items"
   ]
  },
  {
   "cell_type": "code",
   "execution_count": 22,
   "metadata": {},
   "outputs": [],
   "source": [
    "model_users = MF_Bias(U_size, I_size, NUM_TOPICS, G_b, DROPOUT)\n",
    "model_items = MF_Bias(U_size, I_size, NUM_TOPICS, G_b, DROPOUT)"
   ]
  },
  {
   "cell_type": "code",
   "execution_count": 23,
   "metadata": {},
   "outputs": [],
   "source": [
    "user_map = pd.read_csv(os.path.join(pth, \"datasets\", \"processed\", \"lda\", \"user_topics.csv\"))\n",
    "for idx,row  in user_map.iterrows():\n",
    "    row = row[1:] # to remove 'User_ID' from row\n",
    "    model_users.user_m.weight.data[idx] = torch.tensor(row.values, dtype=f_type).to(device)\n",
    "\n",
    "item_map = pd.read_csv(os.path.join(pth, \"datasets\", \"processed\", \"lda\", \"item_topics.csv\"))\n",
    "for idx,row  in item_map.iterrows():\n",
    "    row = row[1:] # to remove 'Item_ID' from row\n",
    "    model_items.item_m.weight.data[idx] = torch.tensor(row.values, dtype=f_type).to(device)"
   ]
  },
  {
   "cell_type": "code",
   "execution_count": 24,
   "metadata": {},
   "outputs": [],
   "source": [
    "regressor_users = NeuralNetRegressor(\n",
    "    model_users,\n",
    "    criterion = loss_fn,\n",
    "    optimizer = optimizer,\n",
    "    optimizer__param_groups = [\n",
    "        ('user_m.weight', {'weight_decay': DECAY}),\n",
    "        ('item_m.weight', {'weight_decay': DECAY})\n",
    "    ],\n",
    "    optimizer__lr = LEARNING_RATE,\n",
    "    batch_size = BATCH_SIZE,\n",
    "    max_epochs = EPOCHS\n",
    ")\n",
    "regressor_items = NeuralNetRegressor(\n",
    "    model_items,\n",
    "    criterion = loss_fn,\n",
    "    optimizer = optimizer,\n",
    "    optimizer__param_groups = [\n",
    "        ('user_m.weight', {'weight_decay': DECAY}),\n",
    "        ('item_m.weight', {'weight_decay': DECAY})\n",
    "    ],\n",
    "    optimizer__lr = LEARNING_RATE,\n",
    "    batch_size = BATCH_SIZE,\n",
    "    max_epochs = EPOCHS\n",
    ")"
   ]
  },
  {
   "cell_type": "code",
   "execution_count": 25,
   "metadata": {},
   "outputs": [
    {
     "name": "stdout",
     "output_type": "stream",
     "text": [
      "  epoch    train_loss    valid_loss      dur\n",
      "-------  ------------  ------------  -------\n",
      "      1        \u001b[36m1.2520\u001b[0m        \u001b[32m1.1956\u001b[0m  96.2351\n",
      "      2        \u001b[36m1.1675\u001b[0m        \u001b[32m1.1687\u001b[0m  93.7928\n",
      "      3        \u001b[36m1.1329\u001b[0m        \u001b[32m1.1521\u001b[0m  92.3571\n",
      "      4        \u001b[36m1.1073\u001b[0m        \u001b[32m1.1412\u001b[0m  92.6789\n",
      "      5        \u001b[36m1.0874\u001b[0m        \u001b[32m1.1337\u001b[0m  92.9103\n",
      "      6        \u001b[36m1.0713\u001b[0m        \u001b[32m1.1285\u001b[0m  94.3349\n",
      "      7        \u001b[36m1.0581\u001b[0m        \u001b[32m1.1247\u001b[0m  94.1356\n",
      "      8        \u001b[36m1.0469\u001b[0m        \u001b[32m1.1220\u001b[0m  94.6132\n",
      "      9        \u001b[36m1.0373\u001b[0m        \u001b[32m1.1201\u001b[0m  93.7135\n",
      "     10        \u001b[36m1.0290\u001b[0m        \u001b[32m1.1188\u001b[0m  93.4099\n",
      "     11        \u001b[36m1.0217\u001b[0m        \u001b[32m1.1180\u001b[0m  94.1915\n",
      "     12        \u001b[36m1.0153\u001b[0m        \u001b[32m1.1175\u001b[0m  94.1084\n",
      "     13        \u001b[36m1.0096\u001b[0m        \u001b[32m1.1172\u001b[0m  94.8036\n",
      "     14        \u001b[36m1.0046\u001b[0m        1.1172  94.8686\n",
      "     15        \u001b[36m1.0000\u001b[0m        1.1174  94.7547\n"
     ]
    }
   ],
   "source": [
    "results = regressor_users.fit(x_train, y_train)\n",
    "history = results.history\n",
    "\n",
    "tr_losses = [i['train_loss'] for i in history]\n",
    "t_losses = [i['valid_loss'] for i in history]\n",
    "\n",
    "with open(os.path.join(pth, \"results\", f\"model_PreprocessingLDA_{device}_{f_type}.pkl\"), 'wb') as f:\n",
    "    pickle.dump(model, f)\n",
    "\n",
    "np.savez_compressed(os.path.join(pth, \"results\", f\"Users_MPBais_{device}_{f_type}.npz\"),\n",
    "                    tr_loss = tr_losses,\n",
    "                    t_loss = t_losses)"
   ]
  },
  {
   "cell_type": "code",
   "execution_count": 26,
   "metadata": {},
   "outputs": [
    {
     "name": "stdout",
     "output_type": "stream",
     "text": [
      "  epoch    train_loss    valid_loss      dur\n",
      "-------  ------------  ------------  -------\n",
      "      1        \u001b[36m1.2613\u001b[0m        \u001b[32m1.1956\u001b[0m  83.3967\n",
      "      2        \u001b[36m1.1676\u001b[0m        \u001b[32m1.1687\u001b[0m  83.2045\n",
      "      3        \u001b[36m1.1330\u001b[0m        \u001b[32m1.1521\u001b[0m  83.6538\n",
      "      4        \u001b[36m1.1074\u001b[0m        \u001b[32m1.1412\u001b[0m  88.1941\n",
      "      5        \u001b[36m1.0874\u001b[0m        \u001b[32m1.1337\u001b[0m  91.3011\n",
      "      6        \u001b[36m1.0714\u001b[0m        \u001b[32m1.1285\u001b[0m  90.7779\n",
      "      7        \u001b[36m1.0581\u001b[0m        \u001b[32m1.1247\u001b[0m  91.7139\n",
      "      8        \u001b[36m1.0469\u001b[0m        \u001b[32m1.1221\u001b[0m  95.1239\n",
      "      9        \u001b[36m1.0373\u001b[0m        \u001b[32m1.1201\u001b[0m  93.7496\n",
      "     10        \u001b[36m1.0290\u001b[0m        \u001b[32m1.1188\u001b[0m  94.9438\n",
      "     11        \u001b[36m1.0217\u001b[0m        \u001b[32m1.1179\u001b[0m  95.2125\n",
      "     12        \u001b[36m1.0153\u001b[0m        \u001b[32m1.1174\u001b[0m  93.5900\n",
      "     13        \u001b[36m1.0097\u001b[0m        \u001b[32m1.1172\u001b[0m  95.5732\n",
      "     14        \u001b[36m1.0046\u001b[0m        1.1172  94.3999\n",
      "     15        \u001b[36m1.0001\u001b[0m        1.1174  96.2268\n"
     ]
    }
   ],
   "source": [
    "results = regressor_items.fit(x_train, y_train)\n",
    "history = results.history\n",
    "\n",
    "tr_losses = [i['train_loss'] for i in history]\n",
    "t_losses = [i['valid_loss'] for i in history]\n",
    "\n",
    "with open(os.path.join(pth, \"results\", f\"model_PreprocessingLDA_{device}_{f_type}.pkl\"), 'wb') as f:\n",
    "    pickle.dump(model, f)\n",
    "\n",
    "np.savez_compressed(os.path.join(pth, \"results\", f\"Items_MPBais_Baseline_{device}_{f_type}.npz\"),\n",
    "                    tr_loss = tr_losses,\n",
    "                    t_loss = t_losses)"
   ]
  },
  {
   "cell_type": "markdown",
   "metadata": {},
   "source": [
    "# (4) Graphs"
   ]
  },
  {
   "cell_type": "code",
   "execution_count": 27,
   "metadata": {},
   "outputs": [
    {
     "data": {
      "text/plain": [
       "0"
      ]
     },
     "execution_count": 27,
     "metadata": {},
     "output_type": "execute_result"
    }
   ],
   "source": [
    "gc.collect()"
   ]
  },
  {
   "cell_type": "code",
   "execution_count": 37,
   "metadata": {},
   "outputs": [
    {
     "data": {
      "image/png": "[encoded data removed]",
      "text/plain": [
       "<Figure size 640x480 with 1 Axes>"
      ]
     },
     "metadata": {},
     "output_type": "display_data"
    }
   ],
   "source": [
    "import matplotlib.pyplot as plt\n",
    "p = np.load(os.path.join(pth, \"results\", f\"Both_MPBais_Baseline_{device}_{f_type}.npz\"))\n",
    "not_p = np.load(os.path.join(pth, \"results\", f\"MPBais_PreprocessLDA_{device}_{f_type}.npz\"))\n",
    "u = np.load(os.path.join(pth, \"results\", f\"Users_MPBais_{device}_{f_type}.npz\"))\n",
    "i = np.load(os.path.join(pth, \"results\", f\"Items_MPBais_Baseline_{device}_{f_type}.npz\"))\n",
    "\n",
    "plt.plot([i+1 for i in range(EPOCHS)], p['t_loss'], label='LDA Preprocessed')\n",
    "plt.plot([i+1 for i in range(EPOCHS)], not_p['t_loss'], label='Baseline')\n",
    "plt.plot([i+1 for i in range(EPOCHS)], u['t_loss'], label='Only Users')\n",
    "plt.plot([i+1 for i in range(EPOCHS)], i['t_loss'], label='Only Items')\n",
    "plt.xlabel('Epochs')\n",
    "plt.ylabel('Loss RMSE')\n",
    "plt.title('LDA Preprocessing Performance')\n",
    "plt.legend()\n",
    "plt.show()"
   ]
  },
  {
   "cell_type": "code",
   "execution_count": 55,
   "metadata": {},
   "outputs": [
    {
     "data": {
      "image/png": "[encoded data removed]",
      "text/plain": [
       "<Figure size 640x480 with 1 Axes>"
      ]
     },
     "metadata": {},
     "output_type": "display_data"
    }
   ],
   "source": [
    "factor = list()\n",
    "for i in range(len(p['t_loss'])):\n",
    "    f = (100 *(float(p['t_loss'][i]) / float(not_p['t_loss'][i]))) - 100\n",
    "    factor.append(f)\n",
    "\n",
    "plt.plot([i+1 for i in range(EPOCHS)], factor, label='% Improvement')\n",
    "plt.xlabel('Epochs')\n",
    "plt.ylabel('% LDA Preprocessed over Baseline')\n",
    "plt.title('Comparison')\n",
    "plt.legend()\n",
    "plt.show()"
   ]
  }
 ],
 "metadata": {
  "kernelspec": {
   "display_name": "RL-Recommender-Git",
   "language": "python",
   "name": "python3"
  },
  "language_info": {
   "codemirror_mode": {
    "name": "ipython",
    "version": 3
   },
   "file_extension": ".py",
   "mimetype": "text/x-python",
   "name": "python",
   "nbconvert_exporter": "python",
   "pygments_lexer": "ipython3",
   "version": "3.10.13"
  }
 },
 "nbformat": 4,
 "nbformat_minor": 2
}
