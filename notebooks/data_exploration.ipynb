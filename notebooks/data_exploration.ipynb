{
 "cells": [
  {
   "cell_type": "markdown",
   "id": "c2d6a862",
   "metadata": {},
   "source": [
    "# Notebook Purpose\n",
    "For confirming that downloaded datasets are consistent with the baseline paper and exploring the contents of said datasets."
   ]
  },
  {
   "cell_type": "code",
   "execution_count": 1,
   "id": "6e0072f0",
   "metadata": {},
   "outputs": [],
   "source": [
    "# imports\n",
    "import pandas as pd"
   ]
  },
  {
   "cell_type": "markdown",
   "id": "7afc1af1",
   "metadata": {},
   "source": [
    "# Amazon 1996-2014 Toys and Games Review Data\n",
    "\n",
    "This dataset contains a list of reviews, each with the following metadata:\n",
    "- reviewerID: the ID of the user\n",
    "- asin: the ID of the product reviewed\n",
    "- reviewerName: the username of the user\n",
    "- helpful: the helpfulness rating, expressed as [helpful, unhelpful]\n",
    "- reviewText: body text of the review\n",
    "- overall: rating of the review /5\n",
    "- summary: the header (summary text) of the review\n",
    "- unixReviewTime: time in unix\n",
    "- reviewTime: raw time recorded"
   ]
  },
  {
   "cell_type": "code",
   "execution_count": 2,
   "id": "2e45a1c1",
   "metadata": {},
   "outputs": [],
   "source": [
    "amazon_5core_path = '../data/datasets/reviews_Toys_and_Games_5.json'\n",
    "amazon_df = pd.read_json(amazon_5core_path, lines = True)"
   ]
  },
  {
   "cell_type": "code",
   "execution_count": 3,
   "id": "0778b254",
   "metadata": {},
   "outputs": [
    {
     "name": "stdout",
     "output_type": "stream",
     "text": [
      "<class 'pandas.core.frame.DataFrame'>\n",
      "RangeIndex: 167597 entries, 0 to 167596\n",
      "Data columns (total 9 columns):\n",
      " #   Column          Non-Null Count   Dtype \n",
      "---  ------          --------------   ----- \n",
      " 0   reviewerID      167597 non-null  object\n",
      " 1   asin            167597 non-null  object\n",
      " 2   reviewerName    166759 non-null  object\n",
      " 3   helpful         167597 non-null  object\n",
      " 4   reviewText      167597 non-null  object\n",
      " 5   overall         167597 non-null  int64 \n",
      " 6   summary         167597 non-null  object\n",
      " 7   unixReviewTime  167597 non-null  int64 \n",
      " 8   reviewTime      167597 non-null  object\n",
      "dtypes: int64(2), object(7)\n",
      "memory usage: 11.5+ MB\n"
     ]
    }
   ],
   "source": [
    "amazon_df.info()"
   ]
  },
  {
   "cell_type": "markdown",
   "id": "74baf81a",
   "metadata": {},
   "source": [
    "# Yelp 2018 Las Vegas\n",
    "\n",
    "This dataset contains information from the 2018 Yelp challenge. The dataset contains 5 json folders and over 20 GB cumulative of data. "
   ]
  },
  {
   "cell_type": "code",
   "execution_count": 4,
   "id": "cc0739f9",
   "metadata": {},
   "outputs": [],
   "source": [
    "yelp2018_business_path = '../data/datasets/yelp2018/yelp_academic_dataset_business.json'\n",
    "yelp2018_checkin_path = '../data/datasets/yelp2018/yelp_academic_dataset_checkin.json'\n",
    "yelp2018_review_path = '../data/datasets/yelp2018/yelp_academic_dataset_review.json'\n",
    "yelp2018_tip_path = '../data/datasets/yelp2018/yelp_academic_dataset_tip.json'\n",
    "yelp2018_user_path = '../data/datasets/yelp2018/yelp_academic_dataset_user.json'\n",
    "yelp_business_df = pd.read_json(yelp2018_business_path, lines = True)\n",
    "yelp_checkin_df = pd.read_json(yelp2018_checkin_path, lines = True)\n",
    "yelp_review_df = pd.read_json(yelp2018_review_path, lines = True)\n",
    "yelp_tip_df = pd.read_json(yelp2018_tip_path, lines = True)\n",
    "yelp_user_df = pd.read_json(yelp2018_user_path, lines = True)"
   ]
  },
  {
   "cell_type": "code",
   "execution_count": 6,
   "id": "41001ac5",
   "metadata": {
    "scrolled": true
   },
   "outputs": [
    {
     "name": "stdout",
     "output_type": "stream",
     "text": [
      "<class 'pandas.core.frame.DataFrame'>\n",
      "RangeIndex: 150346 entries, 0 to 150345\n",
      "Data columns (total 14 columns):\n",
      " #   Column        Non-Null Count   Dtype  \n",
      "---  ------        --------------   -----  \n",
      " 0   business_id   150346 non-null  object \n",
      " 1   name          150346 non-null  object \n",
      " 2   address       150346 non-null  object \n",
      " 3   city          150346 non-null  object \n",
      " 4   state         150346 non-null  object \n",
      " 5   postal_code   150346 non-null  object \n",
      " 6   latitude      150346 non-null  float64\n",
      " 7   longitude     150346 non-null  float64\n",
      " 8   stars         150346 non-null  float64\n",
      " 9   review_count  150346 non-null  int64  \n",
      " 10  is_open       150346 non-null  int64  \n",
      " 11  attributes    136602 non-null  object \n",
      " 12  categories    150243 non-null  object \n",
      " 13  hours         127123 non-null  object \n",
      "dtypes: float64(3), int64(2), object(9)\n",
      "memory usage: 16.1+ MB\n"
     ]
    },
    {
     "data": {
      "text/plain": [
       "None"
      ]
     },
     "metadata": {},
     "output_type": "display_data"
    },
    {
     "name": "stdout",
     "output_type": "stream",
     "text": [
      "<class 'pandas.core.frame.DataFrame'>\n",
      "RangeIndex: 131930 entries, 0 to 131929\n",
      "Data columns (total 2 columns):\n",
      " #   Column       Non-Null Count   Dtype \n",
      "---  ------       --------------   ----- \n",
      " 0   business_id  131930 non-null  object\n",
      " 1   date         131930 non-null  object\n",
      "dtypes: object(2)\n",
      "memory usage: 2.0+ MB\n"
     ]
    },
    {
     "data": {
      "text/plain": [
       "None"
      ]
     },
     "metadata": {},
     "output_type": "display_data"
    },
    {
     "name": "stdout",
     "output_type": "stream",
     "text": [
      "<class 'pandas.core.frame.DataFrame'>\n",
      "RangeIndex: 6990280 entries, 0 to 6990279\n",
      "Data columns (total 9 columns):\n",
      " #   Column       Dtype         \n",
      "---  ------       -----         \n",
      " 0   review_id    object        \n",
      " 1   user_id      object        \n",
      " 2   business_id  object        \n",
      " 3   stars        int64         \n",
      " 4   useful       int64         \n",
      " 5   funny        int64         \n",
      " 6   cool         int64         \n",
      " 7   text         object        \n",
      " 8   date         datetime64[ns]\n",
      "dtypes: datetime64[ns](1), int64(4), object(4)\n",
      "memory usage: 480.0+ MB\n"
     ]
    },
    {
     "data": {
      "text/plain": [
       "None"
      ]
     },
     "metadata": {},
     "output_type": "display_data"
    },
    {
     "name": "stdout",
     "output_type": "stream",
     "text": [
      "<class 'pandas.core.frame.DataFrame'>\n",
      "RangeIndex: 908915 entries, 0 to 908914\n",
      "Data columns (total 5 columns):\n",
      " #   Column            Non-Null Count   Dtype         \n",
      "---  ------            --------------   -----         \n",
      " 0   user_id           908915 non-null  object        \n",
      " 1   business_id       908915 non-null  object        \n",
      " 2   text              908915 non-null  object        \n",
      " 3   date              908915 non-null  datetime64[ns]\n",
      " 4   compliment_count  908915 non-null  int64         \n",
      "dtypes: datetime64[ns](1), int64(1), object(3)\n",
      "memory usage: 34.7+ MB\n"
     ]
    },
    {
     "data": {
      "text/plain": [
       "None"
      ]
     },
     "metadata": {},
     "output_type": "display_data"
    },
    {
     "name": "stdout",
     "output_type": "stream",
     "text": [
      "<class 'pandas.core.frame.DataFrame'>\n",
      "RangeIndex: 1987897 entries, 0 to 1987896\n",
      "Data columns (total 22 columns):\n",
      " #   Column              Dtype  \n",
      "---  ------              -----  \n",
      " 0   user_id             object \n",
      " 1   name                object \n",
      " 2   review_count        int64  \n",
      " 3   yelping_since       object \n",
      " 4   useful              int64  \n",
      " 5   funny               int64  \n",
      " 6   cool                int64  \n",
      " 7   elite               object \n",
      " 8   friends             object \n",
      " 9   fans                int64  \n",
      " 10  average_stars       float64\n",
      " 11  compliment_hot      int64  \n",
      " 12  compliment_more     int64  \n",
      " 13  compliment_profile  int64  \n",
      " 14  compliment_cute     int64  \n",
      " 15  compliment_list     int64  \n",
      " 16  compliment_note     int64  \n",
      " 17  compliment_plain    int64  \n",
      " 18  compliment_cool     int64  \n",
      " 19  compliment_funny    int64  \n",
      " 20  compliment_writer   int64  \n",
      " 21  compliment_photos   int64  \n",
      "dtypes: float64(1), int64(16), object(5)\n",
      "memory usage: 333.7+ MB\n"
     ]
    },
    {
     "data": {
      "text/plain": [
       "None"
      ]
     },
     "metadata": {},
     "output_type": "display_data"
    }
   ],
   "source": [
    "display(yelp_business_df.info())\n",
    "display(yelp_checkin_df.info())\n",
    "display(yelp_review_df.info())\n",
    "display(yelp_tip_df.info())\n",
    "display(yelp_user_df.info())\n"
   ]
  },
  {
   "cell_type": "code",
   "execution_count": null,
   "id": "fa1bfcfc",
   "metadata": {},
   "outputs": [],
   "source": []
  }
 ],
 "metadata": {
  "kernelspec": {
   "display_name": "Python 3 (ipykernel)",
   "language": "python",
   "name": "python3"
  },
  "language_info": {
   "codemirror_mode": {
    "name": "ipython",
    "version": 3
   },
   "file_extension": ".py",
   "mimetype": "text/x-python",
   "name": "python",
   "nbconvert_exporter": "python",
   "pygments_lexer": "ipython3",
   "version": "3.9.12"
  }
 },
 "nbformat": 4,
 "nbformat_minor": 5
}
