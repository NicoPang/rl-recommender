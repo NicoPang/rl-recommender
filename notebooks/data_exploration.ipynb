{
 "cells": [
  {
   "cell_type": "markdown",
   "id": "c2d6a862",
   "metadata": {},
   "source": [
    "# Notebook Purpose\n",
    "For confirming that downloaded datasets are consistent with the baseline paper and exploring the contents of said datasets."
   ]
  },
  {
   "cell_type": "code",
   "execution_count": 1,
   "id": "6e0072f0",
   "metadata": {},
   "outputs": [],
   "source": [
    "# imports\n",
    "import numpy as np\n",
    "import pandas as pd"
   ]
  },
  {
   "cell_type": "markdown",
   "id": "7afc1af1",
   "metadata": {},
   "source": [
    "# Amazon 1996-2014 Data\n",
    "\n",
    "This dataset contains a list of reviews, each with the following metadata:\n",
    "- reviewerID: the ID of the user\n",
    "- asin: the ID of the product reviewed\n",
    "- reviewerName: the username of the user\n",
    "- helpful: the helpfulness rating, expressed as [helpful, unhelpful]\n",
    "- reviewText: body text of the review\n",
    "- overall: rating of the review /5\n",
    "- summary: the header (summary text) of the review\n",
    "- unixReviewTime: time in unix\n",
    "- reviewTime: raw time recorded\n",
    "\n",
    "We utilize the categories of Video Games, Android Applications, and Health & Personal Care."
   ]
  },
  {
   "cell_type": "code",
   "execution_count": 6,
   "id": "2e45a1c1",
   "metadata": {},
   "outputs": [
    {
     "name": "stdout",
     "output_type": "stream",
     "text": [
      "231780\n",
      "752937\n",
      "346355\n",
      "984717\n",
      "578135\n",
      "1331072\n"
     ]
    }
   ],
   "source": [
    "amazon_games_path = '../datasets/raw/reviews_Video_Games_5.json'\n",
    "amazon_apps_path = '../datasets/raw/reviews_Apps_for_Android_5.json'\n",
    "amazon_health_path = '../datasets/raw/reviews_Health_and_Personal_Care_5.json'\n",
    "games_df = pd.read_json(amazon_games_path, lines = True)\n",
    "apps_df = pd.read_json(amazon_apps_path, lines = True)\n",
    "health_df = pd.read_json(amazon_health_path, lines = True)\n",
    "games_apps_df = pd.concat([games_df, apps_df], axis = 0)\n",
    "games_health_df = pd.concat([games_df, health_df], axis = 0)\n",
    "all_df = pd.concat([games_df, apps_df, health_df], axis = 0)\n",
    "\n",
    "print(len(games_df))\n",
    "print(len(apps_df))\n",
    "print(len(health_df))\n",
    "print(len(games_apps_df))\n",
    "print(len(games_health_df))\n",
    "print(len(all_df))"
   ]
  },
  {
   "cell_type": "markdown",
   "id": "5978c7d6",
   "metadata": {},
   "source": [
    "# Preprocessed Datasets\n",
    "Here is where we prune datasets to fit certain needs. We would like the following types of datasets:\n",
    "- ratings: User, Item, Rating\n",
    "- user reviews: User, Text\n",
    "- item reviews: Item, Text"
   ]
  },
  {
   "cell_type": "code",
   "execution_count": 3,
   "id": "6b33a2fd",
   "metadata": {},
   "outputs": [],
   "source": [
    "# Supplemental functions\n",
    "# assumes arr is sorted, and item i is in arr\n",
    "def index_item(arr, i):\n",
    "    upper = len(arr) - 1\n",
    "    lower = 0\n",
    "    while True:\n",
    "        mid = lower + (upper - lower)//2\n",
    "        if arr[mid] == i:\n",
    "            return mid\n",
    "        elif arr[mid] > i:\n",
    "            upper = mid\n",
    "        else:\n",
    "            lower = mid + 1\n",
    "        if upper < lower:\n",
    "            print('Fatal error: item not found.')\n",
    "            break\n",
    "\n",
    "def combine_strings(row):\n",
    "    return row['reviewText'] + ' ' + row['summary']"
   ]
  },
  {
   "cell_type": "code",
   "execution_count": 4,
   "id": "12fd67ac",
   "metadata": {},
   "outputs": [],
   "source": [
    "### Supplemental arrays\n",
    "\n",
    "def generate_ratings_and_ids(df, keyword):\n",
    "    # User and Item arrays; use these to compress IDs to a fixed-length integer sequence\n",
    "    U = df['reviewerID'].unique()\n",
    "    I = df['asin'].unique()\n",
    "    U.sort()\n",
    "    I.sort()\n",
    "    print(f'User count for {keyword}: {len(U)}')\n",
    "    print(f'Item count for {keyword}: {len(I)}')\n",
    "\n",
    "    review_df = df.copy()\n",
    "\n",
    "    # Remove unrelated variables\n",
    "    review_df = review_df[['reviewerID', 'asin', 'overall']]\n",
    "    review_df['reviewerID'] = review_df['reviewerID'].apply(lambda x: index_item(U, x))\n",
    "    review_df['asin'] = review_df['asin'].apply(lambda x: index_item(I, x))\n",
    "\n",
    "    G_b = review_df['overall'].mean()\n",
    "    print(f'Global avg for {keyword}: {G_b}')\n",
    "\n",
    "    X = review_df[['reviewerID', 'asin']].to_numpy(np.int64)\n",
    "    y = review_df['overall'].to_numpy(np.float64)\n",
    "    np.savez_compressed(f'../datasets/processed/{keyword}_ratings.npz', x = X, y = y, U_size = len(U), I_size = len(I), G_b = G_b)\n",
    "    np.savez_compressed(f'../datasets/processed/{keyword}_UI_lists.npz', u = U, i = I)\n",
    "\n",
    "def generate_reviews(df, keyword):\n",
    "\n",
    "    item_reviews_df = df.groupby('asin')['reviewText'].apply(lambda x: \" \".join(x)).reset_index()\n",
    "    item_reviews_df['summary'] = df.groupby('asin')['summary'].apply(lambda x: \" \".join(x)).reset_index()['summary']\n",
    "    item_reviews_df = item_reviews_df.sort_values(by = 'asin')\n",
    "    item_reviews_df.reset_index()\n",
    "    \n",
    "    user_reviews_df = df.groupby('reviewerID')['reviewText'].apply(lambda x: \" \".join(x)).reset_index()\n",
    "    user_reviews_df['summary'] = df.groupby('reviewerID')['summary'].apply(lambda x: \" \".join(x)).reset_index()['summary']\n",
    "    user_reviews_df = user_reviews_df.sort_values(by = 'reviewerID')\n",
    "    user_reviews_df.reset_index()\n",
    "    \n",
    "    user_reviews_df.to_csv(f'../datasets/processed/{keyword}_U_reviews.csv', escapechar = '\\\\')\n",
    "    item_reviews_df.to_csv(f'../datasets/processed/{keyword}_I_reviews.csv', escapechar = '\\\\')\n",
    "\n",
    "def generate_datasets(df, keyword):\n",
    "    generate_ratings_and_ids(df, keyword)\n",
    "    generate_reviews(df, keyword)"
   ]
  },
  {
   "cell_type": "code",
   "execution_count": 11,
   "id": "a5dccba3",
   "metadata": {},
   "outputs": [
    {
     "name": "stdout",
     "output_type": "stream",
     "text": [
      "User count for games: 24303\n",
      "Item count for games: 10672\n",
      "Global avg for games: 4.086396582966606\n",
      "User count for apps: 87271\n",
      "Item count for apps: 13209\n",
      "Global avg for apps: 3.968930999539138\n",
      "User count for health: 38609\n",
      "Item count for health: 18534\n",
      "Global avg for health: 4.274957774537685\n",
      "User count for games_apps: 110680\n",
      "Item count for games_apps: 23833\n",
      "Global avg for games_apps: 3.9965797279827604\n",
      "User count for games_health: 61028\n",
      "Item count for games_health: 29206\n",
      "Global avg for games_health: 4.1993617407698896\n",
      "User count for all: 146140\n",
      "Item count for all: 42367\n",
      "Global avg for all: 4.069015800798153\n"
     ]
    }
   ],
   "source": [
    "generate_datasets(games_df, 'games')\n",
    "generate_datasets(apps_df, 'apps')\n",
    "generate_datasets(health_df, 'health')\n",
    "generate_datasets(games_apps_df, 'games_apps')\n",
    "generate_datasets(games_health_df, 'games_health')\n",
    "generate_datasets(all_df, 'all')\n"
   ]
  },
  {
   "cell_type": "code",
   "execution_count": null,
   "id": "376e4d55",
   "metadata": {},
   "outputs": [],
   "source": [
    "print(type(I_5core))"
   ]
  },
  {
   "cell_type": "code",
   "execution_count": null,
   "id": "92703215-b24a-4da9-956e-88b1d0db9e07",
   "metadata": {},
   "outputs": [],
   "source": [
    "amazon_games_path = '../datasets/raw/reviews_Video_Games_5.json'\n",
    "amazon_apps_path = '../datasets/raw/reviews_Apps_for_Android_5.json'\n",
    "amazon_health_path = '../datasets/raw/reviews_Health_and_Personal_Care_5.json'\n",
    "games_df = pd.read_json(amazon_games_path, lines = True)\n",
    "apps_df = pd.read_json(amazon_apps_path, lines = True)\n",
    "health_df = pd.read_json(amazon_health_path, lines = True)"
   ]
  },
  {
   "cell_type": "code",
   "execution_count": null,
   "id": "ade973b9-c328-44e6-8b04-37bb89348f87",
   "metadata": {},
   "outputs": [],
   "source": [
    "U_5core = beauty_df['reviewerID'].unique()\n",
    "I_5core = beauty_df['asin'].unique()\n",
    "print(len(U_5core))\n",
    "print(len(I_5core))\n",
    "\n",
    "U_5core = games_df['reviewerID'].unique()\n",
    "I_5core = games_df['asin'].unique()\n",
    "print(len(U_5core))\n",
    "print(len(I_5core))\n",
    "\n",
    "U_5core = apps_df['reviewerID'].unique()\n",
    "I_5core = apps_df['asin'].unique()\n",
    "print(len(U_5core))\n",
    "print(len(I_5core))\n",
    "\n",
    "U_5core = health_df['reviewerID'].unique()\n",
    "I_5core = health_df['asin'].unique()\n",
    "print(len(U_5core))\n",
    "print(len(I_5core))"
   ]
  },
  {
   "cell_type": "code",
   "execution_count": null,
   "id": "ddec0ac9-64fe-4d25-be3a-9c085d1a398a",
   "metadata": {},
   "outputs": [],
   "source": [
    "games_df.sort_values(by = 'reviewerID')"
   ]
  },
  {
   "cell_type": "code",
   "execution_count": null,
   "id": "33fb1959-5bbc-4cec-ad91-60d2201eb290",
   "metadata": {},
   "outputs": [],
   "source": [
    "\n",
    "\n",
    "games_df['text+summary'] = games_df.apply(combine_strings, axis = 1)"
   ]
  },
  {
   "cell_type": "code",
   "execution_count": null,
   "id": "37a4661a-6297-4823-a3e3-2bd6ada9730b",
   "metadata": {},
   "outputs": [],
   "source": [
    "games_item_review_only_df = games_df.groupby('asin')['reviewText'].apply(lambda x: \"&&&\".join(x)).reset_index()\n",
    "games_item_review_only_df = games_item_review_only_df.sort_values(by = 'asin')\n",
    "games_item_review_only_df"
   ]
  },
  {
   "cell_type": "code",
   "execution_count": null,
   "id": "220649f3-143b-4236-a808-a4611971ab47",
   "metadata": {},
   "outputs": [],
   "source": [
    "from sklearn.feature_extraction.text import TfidfVectorizer\n",
    "\n",
    "games_item_review_only_list = games_item_review_only_df['reviewText'].tolist()\n",
    "vectorizer = TfidfVectorizer(encoding=\"utf-8\", lowercase=True)\n",
    "X = vectorizer.fit_transform(games_item_review_only_list)\n"
   ]
  }
 ],
 "metadata": {
  "kernelspec": {
   "display_name": "Python 3 (ipykernel)",
   "language": "python",
   "name": "python3"
  },
  "language_info": {
   "codemirror_mode": {
    "name": "ipython",
    "version": 3
   },
   "file_extension": ".py",
   "mimetype": "text/x-python",
   "name": "python",
   "nbconvert_exporter": "python",
   "pygments_lexer": "ipython3",
   "version": "3.10.9"
  }
 },
 "nbformat": 4,
 "nbformat_minor": 5
}
