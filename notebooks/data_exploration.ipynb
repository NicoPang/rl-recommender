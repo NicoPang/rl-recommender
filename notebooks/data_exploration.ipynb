{
 "cells": [
  {
   "cell_type": "markdown",
   "id": "c2d6a862",
   "metadata": {},
   "source": [
    "# Notebook Purpose\n",
    "For confirming that downloaded datasets are consistent with the baseline paper and exploring the contents of said datasets."
   ]
  },
  {
   "cell_type": "code",
   "execution_count": 52,
   "id": "6e0072f0",
   "metadata": {},
   "outputs": [],
   "source": [
    "# imports\n",
    "import numpy as np\n",
    "import pandas as pd"
   ]
  },
  {
   "cell_type": "markdown",
   "id": "7afc1af1",
   "metadata": {},
   "source": [
    "# Amazon 1996-2014 Toys and Games Review Data\n",
    "\n",
    "This dataset contains a list of reviews, each with the following metadata:\n",
    "- reviewerID: the ID of the user\n",
    "- asin: the ID of the product reviewed\n",
    "- reviewerName: the username of the user\n",
    "- helpful: the helpfulness rating, expressed as [helpful, unhelpful]\n",
    "- reviewText: body text of the review\n",
    "- overall: rating of the review /5\n",
    "- summary: the header (summary text) of the review\n",
    "- unixReviewTime: time in unix\n",
    "- reviewTime: raw time recorded"
   ]
  },
  {
   "cell_type": "code",
   "execution_count": 5,
   "id": "2e45a1c1",
   "metadata": {},
   "outputs": [],
   "source": [
    "amazon_5core_path = '../data/raw/reviews_Toys_and_Games_5.json'\n",
    "amazon_1core_path = '../data/raw/reviews_Toys_and_Games.json'\n",
    "amazon_5_df = pd.read_json(amazon_5core_path, lines = True)\n",
    "amazon_1_df = pd.read_json(amazon_1core_path, lines = True)"
   ]
  },
  {
   "cell_type": "code",
   "execution_count": 6,
   "id": "0778b254",
   "metadata": {
    "collapsed": true
   },
   "outputs": [
    {
     "name": "stdout",
     "output_type": "stream",
     "text": [
      "<class 'pandas.core.frame.DataFrame'>\n",
      "RangeIndex: 167597 entries, 0 to 167596\n",
      "Data columns (total 9 columns):\n",
      " #   Column          Non-Null Count   Dtype \n",
      "---  ------          --------------   ----- \n",
      " 0   reviewerID      167597 non-null  object\n",
      " 1   asin            167597 non-null  object\n",
      " 2   reviewerName    166759 non-null  object\n",
      " 3   helpful         167597 non-null  object\n",
      " 4   reviewText      167597 non-null  object\n",
      " 5   overall         167597 non-null  int64 \n",
      " 6   summary         167597 non-null  object\n",
      " 7   unixReviewTime  167597 non-null  int64 \n",
      " 8   reviewTime      167597 non-null  object\n",
      "dtypes: int64(2), object(7)\n",
      "memory usage: 11.5+ MB\n"
     ]
    },
    {
     "data": {
      "text/plain": [
       "None"
      ]
     },
     "metadata": {},
     "output_type": "display_data"
    },
    {
     "name": "stdout",
     "output_type": "stream",
     "text": [
      "<class 'pandas.core.frame.DataFrame'>\n",
      "RangeIndex: 2252771 entries, 0 to 2252770\n",
      "Data columns (total 9 columns):\n",
      " #   Column          Dtype \n",
      "---  ------          ----- \n",
      " 0   reviewerID      object\n",
      " 1   asin            object\n",
      " 2   reviewerName    object\n",
      " 3   helpful         object\n",
      " 4   reviewText      object\n",
      " 5   overall         int64 \n",
      " 6   summary         object\n",
      " 7   unixReviewTime  int64 \n",
      " 8   reviewTime      object\n",
      "dtypes: int64(2), object(7)\n",
      "memory usage: 154.7+ MB\n"
     ]
    },
    {
     "data": {
      "text/plain": [
       "None"
      ]
     },
     "metadata": {},
     "output_type": "display_data"
    }
   ],
   "source": [
    "display(amazon_5_df.info())\n",
    "display(amazon_1_df.info())"
   ]
  },
  {
   "cell_type": "markdown",
   "id": "5978c7d6",
   "metadata": {},
   "source": [
    "# Preprocessed Datasets\n",
    "Here is where we prune datasets to fit certain needs. We would like the following types of datasets:\n",
    "- 5core: User, Item, Rating\n",
    "- 1core: User, Item, Rating"
   ]
  },
  {
   "cell_type": "code",
   "execution_count": 41,
   "id": "6b33a2fd",
   "metadata": {},
   "outputs": [],
   "source": [
    "# Supplemental functions\n",
    "# assumes arr is sorted, and item i is in arr\n",
    "def index_item(arr, i):\n",
    "    upper = len(arr) - 1\n",
    "    lower = 0\n",
    "    while True:\n",
    "        mid = lower + (upper - lower)//2\n",
    "        if arr[mid] == i:\n",
    "            return mid\n",
    "        elif arr[mid] > i:\n",
    "            upper = mid\n",
    "        else:\n",
    "            lower = mid + 1\n",
    "        if upper < lower:\n",
    "            print('Fatal error: item not found.')\n",
    "            break"
   ]
  },
  {
   "cell_type": "code",
   "execution_count": 74,
   "id": "12fd67ac",
   "metadata": {},
   "outputs": [
    {
     "name": "stdout",
     "output_type": "stream",
     "text": [
      "5core userbase: 19412; top 5: ['A012468118FTQAINEI0OQ' 'A0182108CPDLPRCXQUZQ' 'A026961431MGW0616BRS3'\n",
      " 'A034597326Z83X79S50FI' 'A04295422T2ZG087R17FX']\n",
      "5core itemabse: 11924; top 5: ['0439893577' '048645195X' '0545496470' '0615444172' '0670010936']\n",
      "Global avg: 4.356307093802395\n"
     ]
    }
   ],
   "source": [
    "### Supplemental arrays\n",
    "\n",
    "# User and Item database; use these to give an ID within range to make calculations easier\n",
    "U_5core = amazon_5_df['reviewerID'].unique()\n",
    "I_5core = amazon_5_df['asin'].unique()\n",
    "U_5core.sort()\n",
    "I_5core.sort()\n",
    "print(f'5core userbase: {len(U_5core)}; top 5: {U_5core[:5]}')\n",
    "print(f'5core itemabse: {len(I_5core)}; top 5: {I_5core[:5]}')\n",
    "\n",
    "\n",
    "### User item rating dataframe for Amazon 5-core\n",
    "UIR_5core_df = amazon_5_df.copy()\n",
    "\n",
    "# Remove unrelated variables\n",
    "UIR_5core_df = UIR_5core_df[['reviewerID', 'asin', 'overall']]\n",
    "UIR_5core_df['reviewerID'] = UIR_5core_df['reviewerID'].apply(lambda x: index_item(U_5core, x))\n",
    "UIR_5core_df['asin'] = UIR_5core_df['asin'].apply(lambda x: index_item(I_5core, x))\n",
    "\n",
    "G_b = UIR_5core_df['overall'].mean()\n",
    "print(f'Global avg: {G_b}')\n",
    "\n",
    "UIR_5core_in = UIR_5core_df[['reviewerID', 'asin']].to_numpy(np.int64)\n",
    "UIR_5core_out = UIR_5core_df['overall'].to_numpy(np.float64)\n",
    "np.savez_compressed('../data/UIR_5core.npz', x = UIR_5core_in, y = UIR_5core_out, U_size = len(U_5core), I_size = len(I_5core), G_b = G_b)"
   ]
  },
  {
   "cell_type": "code",
   "execution_count": null,
   "id": "a5dccba3",
   "metadata": {},
   "outputs": [],
   "source": []
  },
  {
   "cell_type": "code",
   "execution_count": null,
   "id": "376e4d55",
   "metadata": {},
   "outputs": [],
   "source": []
  }
 ],
 "metadata": {
  "kernelspec": {
   "display_name": "Python 3 (ipykernel)",
   "language": "python",
   "name": "python3"
  },
  "language_info": {
   "codemirror_mode": {
    "name": "ipython",
    "version": 3
   },
   "file_extension": ".py",
   "mimetype": "text/x-python",
   "name": "python",
   "nbconvert_exporter": "python",
   "pygments_lexer": "ipython3",
   "version": "3.9.12"
  }
 },
 "nbformat": 4,
 "nbformat_minor": 5
}
