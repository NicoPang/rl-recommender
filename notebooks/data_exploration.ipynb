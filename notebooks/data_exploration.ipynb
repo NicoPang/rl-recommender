{
   "cells": [
      {
         "cell_type": "markdown",
         "id": "c2d6a862",
         "metadata": {},
         "source": [
            "# Notebook Purpose\n",
            "For confirming that downloaded datasets are consistent with the baseline paper and exploring the contents of said datasets."
         ]
      },
      {
         "cell_type": "code",
         "execution_count": 2,
         "id": "6e0072f0",
         "metadata": {},
         "outputs": [],
         "source": [
            "# imports\n",
            "import numpy as np\n",
            "import pandas as pd"
         ]
      },
      {
         "cell_type": "markdown",
         "id": "7afc1af1",
         "metadata": {},
         "source": [
            "# Amazon 1996-2014 Toys and Games Review Data\n",
            "\n",
            "This dataset contains a list of reviews, each with the following metadata:\n",
            "- reviewerID: the ID of the user\n",
            "- asin: the ID of the product reviewed\n",
            "- reviewerName: the username of the user\n",
            "- helpful: the helpfulness rating, expressed as [helpful, unhelpful]\n",
            "- reviewText: body text of the review\n",
            "- overall: rating of the review /5\n",
            "- summary: the header (summary text) of the review\n",
            "- unixReviewTime: time in unix\n",
            "- reviewTime: raw time recorded"
         ]
      },
      {
         "cell_type": "code",
         "execution_count": 4,
         "id": "2e45a1c1",
         "metadata": {},
         "outputs": [],
         "source": [
            "amazon_5core_path = '../datasets/raw/reviews_Toys_and_Games_5.json'\n",
            "amazon_1core_path = '../datasets/raw/reviews_Toys_and_Games.json'\n",
            "amazon_5_df = pd.read_json(amazon_5core_path, lines = True)\n",
            "amazon_1_df = pd.read_json(amazon_1core_path, lines = True)"
         ]
      },
      {
         "cell_type": "code",
         "execution_count": 5,
         "id": "0778b254",
         "metadata": {},
         "outputs": [
            {
               "name": "stdout",
               "output_type": "stream",
               "text": [
                  "<class 'pandas.core.frame.DataFrame'>\n",
                  "RangeIndex: 167597 entries, 0 to 167596\n",
                  "Data columns (total 9 columns):\n",
                  " #   Column          Non-Null Count   Dtype \n",
                  "---  ------          --------------   ----- \n",
                  " 0   reviewerID      167597 non-null  object\n",
                  " 1   asin            167597 non-null  object\n",
                  " 2   reviewerName    166759 non-null  object\n",
                  " 3   helpful         167597 non-null  object\n",
                  " 4   reviewText      167597 non-null  object\n",
                  " 5   overall         167597 non-null  int64 \n",
                  " 6   summary         167597 non-null  object\n",
                  " 7   unixReviewTime  167597 non-null  int64 \n",
                  " 8   reviewTime      167597 non-null  object\n",
                  "dtypes: int64(2), object(7)\n",
                  "memory usage: 11.5+ MB\n"
               ]
            },
            {
               "data": {
                  "text/plain": [
                     "None"
                  ]
               },
               "metadata": {},
               "output_type": "display_data"
            },
            {
               "name": "stdout",
               "output_type": "stream",
               "text": [
                  "<class 'pandas.core.frame.DataFrame'>\n",
                  "RangeIndex: 2252771 entries, 0 to 2252770\n",
                  "Data columns (total 9 columns):\n",
                  " #   Column          Dtype \n",
                  "---  ------          ----- \n",
                  " 0   reviewerID      object\n",
                  " 1   asin            object\n",
                  " 2   reviewerName    object\n",
                  " 3   helpful         object\n",
                  " 4   reviewText      object\n",
                  " 5   overall         int64 \n",
                  " 6   summary         object\n",
                  " 7   unixReviewTime  int64 \n",
                  " 8   reviewTime      object\n",
                  "dtypes: int64(2), object(7)\n",
                  "memory usage: 154.7+ MB\n"
               ]
            },
            {
               "data": {
                  "text/plain": [
                     "None"
                  ]
               },
               "metadata": {},
               "output_type": "display_data"
            }
         ],
         "source": [
            "display(amazon_5_df.info())\n",
            "display(amazon_1_df.info())"
         ]
      },
      {
         "cell_type": "markdown",
         "id": "5978c7d6",
         "metadata": {},
         "source": [
            "# Preprocessed Datasets\n",
            "Here is where we prune datasets to fit certain needs. We would like the following types of datasets:\n",
            "- 5core: User, Item, Rating\n",
            "- 1core: User, Item, Rating"
         ]
      },
      {
         "cell_type": "code",
         "execution_count": 6,
         "id": "6b33a2fd",
         "metadata": {},
         "outputs": [],
         "source": [
            "# Supplemental functions\n",
            "# assumes arr is sorted, and item i is in arr\n",
            "def index_item(arr, i):\n",
            "    upper = len(arr) - 1\n",
            "    lower = 0\n",
            "    while True:\n",
            "        mid = lower + (upper - lower)//2\n",
            "        if arr[mid] == i:\n",
            "            return mid\n",
            "        elif arr[mid] > i:\n",
            "            upper = mid\n",
            "        else:\n",
            "            lower = mid + 1\n",
            "        if upper < lower:\n",
            "            print('Fatal error: item not found.')\n",
            "            break"
         ]
      },
      {
         "cell_type": "code",
         "execution_count": 7,
         "id": "12fd67ac",
         "metadata": {},
         "outputs": [
            {
               "name": "stdout",
               "output_type": "stream",
               "text": [
                  "5core userbase: 19412; top 5: ['A012468118FTQAINEI0OQ' 'A0182108CPDLPRCXQUZQ' 'A026961431MGW0616BRS3'\n",
                  " 'A034597326Z83X79S50FI' 'A04295422T2ZG087R17FX']\n",
                  "5core itemabse: 11924; top 5: ['0439893577' '048645195X' '0545496470' '0615444172' '0670010936']\n",
                  "Global avg: 4.356307093802395\n"
               ]
            }
         ],
         "source": [
            "### Supplemental arrays\n",
            "\n",
            "# User and Item database; use these to give an ID within range to make calculations easier\n",
            "U_5core = amazon_5_df['reviewerID'].unique()\n",
            "I_5core = amazon_5_df['asin'].unique()\n",
            "U_5core.sort()\n",
            "I_5core.sort()\n",
            "print(f'5core userbase: {len(U_5core)}; top 5: {U_5core[:5]}')\n",
            "print(f'5core itemabse: {len(I_5core)}; top 5: {I_5core[:5]}')\n",
            "\n",
            "\n",
            "### User item rating dataframe for Amazon 5-core\n",
            "UIR_5core_df = amazon_5_df.copy()\n",
            "\n",
            "# Remove unrelated variables\n",
            "UIR_5core_df = UIR_5core_df[['reviewerID', 'asin', 'overall']]\n",
            "UIR_5core_df['reviewerID'] = UIR_5core_df['reviewerID'].apply(lambda x: index_item(U_5core, x))\n",
            "UIR_5core_df['asin'] = UIR_5core_df['asin'].apply(lambda x: index_item(I_5core, x))\n",
            "\n",
            "G_b = UIR_5core_df['overall'].mean()\n",
            "print(f'Global avg: {G_b}')\n",
            "\n",
            "UIR_5core_in = UIR_5core_df[['reviewerID', 'asin']].to_numpy(np.int64)\n",
            "UIR_5core_out = UIR_5core_df['overall'].to_numpy(np.float64)\n",
            "np.savez_compressed('../datasets/processed/UIR_5core.npz', x = UIR_5core_in, y = UIR_5core_out, U_size = len(U_5core), I_size = len(I_5core), G_b = G_b)"
         ]
      },
      {
         "cell_type": "code",
         "execution_count": 9,
         "id": "a5dccba3",
         "metadata": {},
         "outputs": [],
         "source": [
            "np.savez_compressed('../datasets/processed/UI_lists.npz', u = U_5core, i = I_5core)\n"
         ]
      },
      {
         "cell_type": "code",
         "execution_count": 12,
         "id": "376e4d55",
         "metadata": {},
         "outputs": [
            {
               "name": "stdout",
               "output_type": "stream",
               "text": [
                  "<class 'numpy.ndarray'>\n"
               ]
            }
         ],
         "source": [
            "print(type(I_5core))"
         ]
      },
      {
         "cell_type": "code",
         "execution_count": 17,
         "id": "92703215-b24a-4da9-956e-88b1d0db9e07",
         "metadata": {},
         "outputs": [],
         "source": [
            "amazon_beauty_path = '../datasets/raw/reviews_Beauty_5.json'\n",
            "amazon_games_path = '../datasets/raw/reviews_Video_Games_5.json'\n",
            "amazon_apps_path = '../datasets/raw/reviews_Apps_for_Android_5.json'\n",
            "amazon_health_path = '../datasets/raw/reviews_Health_and_Personal_Care_5.json'\n",
            "beauty_df = pd.read_json(amazon_beauty_path, lines = True)\n",
            "games_df = pd.read_json(amazon_games_path, lines = True)\n",
            "apps_df = pd.read_json(amazon_apps_path, lines = True)\n",
            "health_df = pd.read_json(amazon_health_path, lines = True)"
         ]
      },
      {
         "cell_type": "code",
         "execution_count": 18,
         "id": "ade973b9-c328-44e6-8b04-37bb89348f87",
         "metadata": {},
         "outputs": [
            {
               "name": "stdout",
               "output_type": "stream",
               "text": [
                  "22363\n",
                  "12101\n",
                  "24303\n",
                  "10672\n",
                  "87271\n",
                  "13209\n",
                  "38609\n",
                  "18534\n"
               ]
            }
         ],
         "source": [
            "U_5core = beauty_df['reviewerID'].unique()\n",
            "I_5core = beauty_df['asin'].unique()\n",
            "print(len(U_5core))\n",
            "print(len(I_5core))\n",
            "\n",
            "U_5core = games_df['reviewerID'].unique()\n",
            "I_5core = games_df['asin'].unique()\n",
            "print(len(U_5core))\n",
            "print(len(I_5core))\n",
            "\n",
            "U_5core = apps_df['reviewerID'].unique()\n",
            "I_5core = apps_df['asin'].unique()\n",
            "print(len(U_5core))\n",
            "print(len(I_5core))\n",
            "\n",
            "U_5core = health_df['reviewerID'].unique()\n",
            "I_5core = health_df['asin'].unique()\n",
            "print(len(U_5core))\n",
            "print(len(I_5core))"
         ]
      },
      {
         "cell_type": "code",
         "execution_count": 81,
         "id": "ddec0ac9-64fe-4d25-be3a-9c085d1a398a",
         "metadata": {},
         "outputs": [
            {
               "data": {
                  "text/html": [
                     "<div>\n",
                     "<style scoped>\n",
                     "    .dataframe tbody tr th:only-of-type {\n",
                     "        vertical-align: middle;\n",
                     "    }\n",
                     "\n",
                     "    .dataframe tbody tr th {\n",
                     "        vertical-align: top;\n",
                     "    }\n",
                     "\n",
                     "    .dataframe thead th {\n",
                     "        text-align: right;\n",
                     "    }\n",
                     "</style>\n",
                     "<table border=\"1\" class=\"dataframe\">\n",
                     "  <thead>\n",
                     "    <tr style=\"text-align: right;\">\n",
                     "      <th></th>\n",
                     "      <th>reviewerID</th>\n",
                     "      <th>asin</th>\n",
                     "      <th>reviewerName</th>\n",
                     "      <th>helpful</th>\n",
                     "      <th>reviewText</th>\n",
                     "      <th>overall</th>\n",
                     "      <th>summary</th>\n",
                     "      <th>unixReviewTime</th>\n",
                     "      <th>reviewTime</th>\n",
                     "    </tr>\n",
                     "  </thead>\n",
                     "  <tbody>\n",
                     "    <tr>\n",
                     "      <th>209657</th>\n",
                     "      <td>A00263941WP7WCIL7AKWL</td>\n",
                     "      <td>B008OSDGV0</td>\n",
                     "      <td>Andy</td>\n",
                     "      <td>[11, 11]</td>\n",
                     "      <td>A highly known skylander in all of the skyland...</td>\n",
                     "      <td>5</td>\n",
                     "      <td>Trigger Happy Review</td>\n",
                     "      <td>1353715200</td>\n",
                     "      <td>11 24, 2012</td>\n",
                     "    </tr>\n",
                     "    <tr>\n",
                     "      <th>209669</th>\n",
                     "      <td>A00263941WP7WCIL7AKWL</td>\n",
                     "      <td>B008OSDHD2</td>\n",
                     "      <td>Andy</td>\n",
                     "      <td>[0, 1]</td>\n",
                     "      <td>Chill is a water skylander, which means she ca...</td>\n",
                     "      <td>5</td>\n",
                     "      <td>Chill review</td>\n",
                     "      <td>1352160000</td>\n",
                     "      <td>11 6, 2012</td>\n",
                     "    </tr>\n",
                     "    <tr>\n",
                     "      <th>210035</th>\n",
                     "      <td>A00263941WP7WCIL7AKWL</td>\n",
                     "      <td>B008SBZF4Y</td>\n",
                     "      <td>Andy</td>\n",
                     "      <td>[15, 18]</td>\n",
                     "      <td>Crusher is both strong and sturdy, but slow. E...</td>\n",
                     "      <td>5</td>\n",
                     "      <td>Crusher review</td>\n",
                     "      <td>1352160000</td>\n",
                     "      <td>11 6, 2012</td>\n",
                     "    </tr>\n",
                     "    <tr>\n",
                     "      <th>209886</th>\n",
                     "      <td>A00263941WP7WCIL7AKWL</td>\n",
                     "      <td>B008SBZD82</td>\n",
                     "      <td>Andy</td>\n",
                     "      <td>[1, 3]</td>\n",
                     "      <td>Drobot, the new lightcore character from the t...</td>\n",
                     "      <td>1</td>\n",
                     "      <td>Lightcore Drobot Review</td>\n",
                     "      <td>1353801600</td>\n",
                     "      <td>11 25, 2012</td>\n",
                     "    </tr>\n",
                     "    <tr>\n",
                     "      <th>209713</th>\n",
                     "      <td>A00263941WP7WCIL7AKWL</td>\n",
                     "      <td>B008OSDHZK</td>\n",
                     "      <td>Andy</td>\n",
                     "      <td>[16, 19]</td>\n",
                     "      <td>Pop Fizz, an alchemist in potions is powerful....</td>\n",
                     "      <td>5</td>\n",
                     "      <td>Pop Fizz review</td>\n",
                     "      <td>1352246400</td>\n",
                     "      <td>11 7, 2012</td>\n",
                     "    </tr>\n",
                     "    <tr>\n",
                     "      <th>...</th>\n",
                     "      <td>...</td>\n",
                     "      <td>...</td>\n",
                     "      <td>...</td>\n",
                     "      <td>...</td>\n",
                     "      <td>...</td>\n",
                     "      <td>...</td>\n",
                     "      <td>...</td>\n",
                     "      <td>...</td>\n",
                     "      <td>...</td>\n",
                     "    </tr>\n",
                     "    <tr>\n",
                     "      <th>197757</th>\n",
                     "      <td>AZZTC2OYVNE2Q</td>\n",
                     "      <td>B006W41X1S</td>\n",
                     "      <td>Wouter</td>\n",
                     "      <td>[0, 0]</td>\n",
                     "      <td>Quick service, product as described no more no...</td>\n",
                     "      <td>5</td>\n",
                     "      <td>Cool</td>\n",
                     "      <td>1356566400</td>\n",
                     "      <td>12 27, 2012</td>\n",
                     "    </tr>\n",
                     "    <tr>\n",
                     "      <th>186737</th>\n",
                     "      <td>AZZTC2OYVNE2Q</td>\n",
                     "      <td>B0050SYX8W</td>\n",
                     "      <td>Wouter</td>\n",
                     "      <td>[0, 1]</td>\n",
                     "      <td>My kids wanted this game badly, but now it is ...</td>\n",
                     "      <td>4</td>\n",
                     "      <td>Its ok...</td>\n",
                     "      <td>1356566400</td>\n",
                     "      <td>12 27, 2012</td>\n",
                     "    </tr>\n",
                     "    <tr>\n",
                     "      <th>216012</th>\n",
                     "      <td>AZZTC2OYVNE2Q</td>\n",
                     "      <td>B00BD9OLW0</td>\n",
                     "      <td>Wouter</td>\n",
                     "      <td>[1, 2]</td>\n",
                     "      <td>What can i say about this, it is a serious of ...</td>\n",
                     "      <td>5</td>\n",
                     "      <td>For my 7 year old.</td>\n",
                     "      <td>1365811200</td>\n",
                     "      <td>04 13, 2013</td>\n",
                     "    </tr>\n",
                     "    <tr>\n",
                     "      <th>175808</th>\n",
                     "      <td>AZZTC2OYVNE2Q</td>\n",
                     "      <td>B004PAGJOC</td>\n",
                     "      <td>Wouter</td>\n",
                     "      <td>[0, 0]</td>\n",
                     "      <td>He seems to like it and is still playing it to...</td>\n",
                     "      <td>4</td>\n",
                     "      <td>My 8 year old's game</td>\n",
                     "      <td>1365811200</td>\n",
                     "      <td>04 13, 2013</td>\n",
                     "    </tr>\n",
                     "    <tr>\n",
                     "      <th>142480</th>\n",
                     "      <td>AZZTC2OYVNE2Q</td>\n",
                     "      <td>B002I0K50U</td>\n",
                     "      <td>Wouter</td>\n",
                     "      <td>[0, 0]</td>\n",
                     "      <td>Bought this for my 10 year old, they played it...</td>\n",
                     "      <td>3</td>\n",
                     "      <td>For the kids</td>\n",
                     "      <td>1365811200</td>\n",
                     "      <td>04 13, 2013</td>\n",
                     "    </tr>\n",
                     "  </tbody>\n",
                     "</table>\n",
                     "<p>231780 rows × 9 columns</p>\n",
                     "</div>"
                  ],
                  "text/plain": [
                     "                   reviewerID        asin reviewerName   helpful  \\\n",
                     "209657  A00263941WP7WCIL7AKWL  B008OSDGV0         Andy  [11, 11]   \n",
                     "209669  A00263941WP7WCIL7AKWL  B008OSDHD2         Andy    [0, 1]   \n",
                     "210035  A00263941WP7WCIL7AKWL  B008SBZF4Y         Andy  [15, 18]   \n",
                     "209886  A00263941WP7WCIL7AKWL  B008SBZD82         Andy    [1, 3]   \n",
                     "209713  A00263941WP7WCIL7AKWL  B008OSDHZK         Andy  [16, 19]   \n",
                     "...                       ...         ...          ...       ...   \n",
                     "197757          AZZTC2OYVNE2Q  B006W41X1S       Wouter    [0, 0]   \n",
                     "186737          AZZTC2OYVNE2Q  B0050SYX8W       Wouter    [0, 1]   \n",
                     "216012          AZZTC2OYVNE2Q  B00BD9OLW0       Wouter    [1, 2]   \n",
                     "175808          AZZTC2OYVNE2Q  B004PAGJOC       Wouter    [0, 0]   \n",
                     "142480          AZZTC2OYVNE2Q  B002I0K50U       Wouter    [0, 0]   \n",
                     "\n",
                     "                                               reviewText  overall  \\\n",
                     "209657  A highly known skylander in all of the skyland...        5   \n",
                     "209669  Chill is a water skylander, which means she ca...        5   \n",
                     "210035  Crusher is both strong and sturdy, but slow. E...        5   \n",
                     "209886  Drobot, the new lightcore character from the t...        1   \n",
                     "209713  Pop Fizz, an alchemist in potions is powerful....        5   \n",
                     "...                                                   ...      ...   \n",
                     "197757  Quick service, product as described no more no...        5   \n",
                     "186737  My kids wanted this game badly, but now it is ...        4   \n",
                     "216012  What can i say about this, it is a serious of ...        5   \n",
                     "175808  He seems to like it and is still playing it to...        4   \n",
                     "142480  Bought this for my 10 year old, they played it...        3   \n",
                     "\n",
                     "                        summary  unixReviewTime   reviewTime  \n",
                     "209657     Trigger Happy Review      1353715200  11 24, 2012  \n",
                     "209669             Chill review      1352160000   11 6, 2012  \n",
                     "210035           Crusher review      1352160000   11 6, 2012  \n",
                     "209886  Lightcore Drobot Review      1353801600  11 25, 2012  \n",
                     "209713          Pop Fizz review      1352246400   11 7, 2012  \n",
                     "...                         ...             ...          ...  \n",
                     "197757                     Cool      1356566400  12 27, 2012  \n",
                     "186737                Its ok...      1356566400  12 27, 2012  \n",
                     "216012       For my 7 year old.      1365811200  04 13, 2013  \n",
                     "175808     My 8 year old's game      1365811200  04 13, 2013  \n",
                     "142480             For the kids      1365811200  04 13, 2013  \n",
                     "\n",
                     "[231780 rows x 9 columns]"
                  ]
               },
               "execution_count": 81,
               "metadata": {},
               "output_type": "execute_result"
            }
         ],
         "source": [
            "games_df.sort_values(by = 'reviewerID')"
         ]
      },
      {
         "cell_type": "code",
         "execution_count": 13,
         "id": "33fb1959-5bbc-4cec-ad91-60d2201eb290",
         "metadata": {},
         "outputs": [
            {
               "data": {
                  "text/plain": [
                     "count    231780.000000\n",
                     "mean          4.086397\n",
                     "std           1.202330\n",
                     "min           1.000000\n",
                     "25%           4.000000\n",
                     "50%           5.000000\n",
                     "75%           5.000000\n",
                     "max           5.000000\n",
                     "Name: overall, dtype: float64"
                  ]
               },
               "execution_count": 22,
               "metadata": {},
               "output_type": "execute_result"
            }
         ],
         "source": [
            "games_df['overall'].describe()"
         ]
      },
      {
         "cell_type": "code",
         "execution_count": null,
         "id": "37a4661a-6297-4823-a3e3-2bd6ada9730b",
         "metadata": {},
         "outputs": [],
         "source": []
      }
   ],
   "metadata": {
      "kernelspec": {
         "display_name": "Python 3 (ipykernel)",
         "language": "python",
         "name": "python3"
      },
      "language_info": {
         "codemirror_mode": {
            "name": "ipython",
            "version": 3
         },
         "file_extension": ".py",
         "mimetype": "text/x-python",
         "name": "python",
         "nbconvert_exporter": "python",
         "pygments_lexer": "ipython3",
         "version": "3.10.9"
      }
   },
   "nbformat": 4,
   "nbformat_minor": 5
}